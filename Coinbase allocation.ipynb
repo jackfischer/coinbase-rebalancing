{
 "cells": [
  {
   "cell_type": "code",
   "execution_count": 1,
   "id": "32455831-8901-404d-a365-e8d74592d430",
   "metadata": {},
   "outputs": [],
   "source": [
    "import requests\n",
    "import pandas as pd\n",
    "import hmac\n",
    "import hashlib\n",
    "from datetime import datetime\n",
    "import numpy as np"
   ]
  },
  {
   "cell_type": "code",
   "execution_count": 2,
   "id": "7ff541a2-80f8-48fe-a8f9-0945fd0eb8c7",
   "metadata": {},
   "outputs": [],
   "source": [
    "import credentials\n",
    "secret_bytes = bytes(credentials.secret , 'latin-1')"
   ]
  },
  {
   "cell_type": "code",
   "execution_count": 3,
   "id": "9a0272a1-099d-4510-8269-2c25d2fa5835",
   "metadata": {},
   "outputs": [],
   "source": [
    "# rates = requests.get(\"https://api.coinbase.com/v2/exchange-rates\").json()[\"data\"][\"rates\"]\n"
   ]
  },
  {
   "cell_type": "code",
   "execution_count": 4,
   "id": "06b132bf-da90-46db-84e3-29afbc25d42b",
   "metadata": {},
   "outputs": [],
   "source": [
    "def generate_access_sign(timestamp, method, requestPath, body):\n",
    "    message = timestamp + method + requestPath + body\n",
    "    message_bytes = bytes(message , 'latin-1')\n",
    "    signature = hmac.new(secret_bytes, message_bytes, digestmod = hashlib.sha256).hexdigest()\n",
    "    return signature"
   ]
  },
  {
   "cell_type": "code",
   "execution_count": 5,
   "id": "be3853fe-687e-4406-a748-62b81a632c6e",
   "metadata": {},
   "outputs": [],
   "source": [
    "BASE = \"https://api.coinbase.com\"\n",
    "PATH = \"/v2/accounts?limit=300\"\n",
    "timestamp = str(round(datetime.now().timestamp()))\n",
    "signature = generate_access_sign(timestamp, \"GET\", PATH, \"\")\n",
    "HEADERS = {\n",
    "    \"CB-ACCESS-KEY\": credentials.key,\n",
    "    \"CB-ACCESS-SIGN\": signature,\n",
    "    \"CB-ACCESS-TIMESTAMP\": timestamp\n",
    "}\n",
    "wallets_request = requests.get(BASE+PATH, headers=HEADERS)"
   ]
  },
  {
   "cell_type": "code",
   "execution_count": 6,
   "id": "151ff1f8-7ff7-4a5a-bbaa-cebb0ed98a8d",
   "metadata": {},
   "outputs": [],
   "source": [
    "assets = pd.DataFrame.from_dict(wallets_request.json()[\"data\"])\n",
    "assets[\"balance\"] = assets[\"native_balance\"].apply(lambda balance: float(balance[\"amount\"]))\n",
    "assets = assets[[\"currency\", \"balance\"]].set_index(\"currency\")\n",
    "assets.rename_axis(\"symbol\", inplace=True)"
   ]
  },
  {
   "cell_type": "code",
   "execution_count": 7,
   "id": "54a052b6-f5d7-4a6a-8c4f-e418ce7c2172",
   "metadata": {},
   "outputs": [],
   "source": [
    "mc_dicts = []\n",
    "for page in range(1, 20):\n",
    "    results = requests.get(f\"https://api.coingecko.com/api/v3/coins/markets?vs_currency=usd&order=market_cap_desc&per_page=250&page={page}&sparkline=false\").json()\n",
    "    mc_dicts.extend(results)"
   ]
  },
  {
   "cell_type": "code",
   "execution_count": 8,
   "id": "d6e89063-fed1-42a6-901c-687a75608bd0",
   "metadata": {},
   "outputs": [],
   "source": [
    "mc = pd.DataFrame.from_dict(mc_dicts)\n",
    "mc[\"symbol\"] = mc[\"symbol\"].str.upper()\n",
    "mc.set_index(\"symbol\", inplace=True)\n",
    "mc = mc[[\"market_cap\"]]\n",
    "mc = mc[~(mc[\"market_cap\"] == 0)]\n",
    "# mc[mc.index.duplicated()].sort_index()\n"
   ]
  },
  {
   "cell_type": "code",
   "execution_count": 9,
   "id": "b1a97228-290a-4df7-aecd-51494eeeb53c",
   "metadata": {},
   "outputs": [],
   "source": [
    "df = assets.join(mc)"
   ]
  },
  {
   "cell_type": "code",
   "execution_count": 10,
   "id": "b2eaa888-7a7f-477b-ab6d-721cb5239536",
   "metadata": {},
   "outputs": [],
   "source": [
    "weights = pd.read_csv('active_weights.csv', index_col=\"symbol\")\n",
    "weights[\"weight\"] = pd.to_numeric(weights[\"weight\"])\n",
    "df = df.join(weights)"
   ]
  },
  {
   "cell_type": "code",
   "execution_count": 11,
   "id": "1915e3cf-4510-404a-b28a-1cfabba77dae",
   "metadata": {},
   "outputs": [
    {
     "data": {
      "text/html": [
       "<div>\n",
       "<style scoped>\n",
       "    .dataframe tbody tr th:only-of-type {\n",
       "        vertical-align: middle;\n",
       "    }\n",
       "\n",
       "    .dataframe tbody tr th {\n",
       "        vertical-align: top;\n",
       "    }\n",
       "\n",
       "    .dataframe thead th {\n",
       "        text-align: right;\n",
       "    }\n",
       "</style>\n",
       "<table border=\"1\" class=\"dataframe\">\n",
       "  <thead>\n",
       "    <tr style=\"text-align: right;\">\n",
       "      <th></th>\n",
       "      <th>balance</th>\n",
       "      <th>market_cap</th>\n",
       "      <th>weight</th>\n",
       "    </tr>\n",
       "    <tr>\n",
       "      <th>symbol</th>\n",
       "      <th></th>\n",
       "      <th></th>\n",
       "      <th></th>\n",
       "    </tr>\n",
       "  </thead>\n",
       "  <tbody>\n",
       "    <tr>\n",
       "      <th>CGLD</th>\n",
       "      <td>0.00</td>\n",
       "      <td>NaN</td>\n",
       "      <td>0.9</td>\n",
       "    </tr>\n",
       "    <tr>\n",
       "      <th>LOOM</th>\n",
       "      <td>0.00</td>\n",
       "      <td>NaN</td>\n",
       "      <td>NaN</td>\n",
       "    </tr>\n",
       "    <tr>\n",
       "      <th>PAX</th>\n",
       "      <td>0.00</td>\n",
       "      <td>NaN</td>\n",
       "      <td>NaN</td>\n",
       "    </tr>\n",
       "    <tr>\n",
       "      <th>USD</th>\n",
       "      <td>0.08</td>\n",
       "      <td>NaN</td>\n",
       "      <td>NaN</td>\n",
       "    </tr>\n",
       "  </tbody>\n",
       "</table>\n",
       "</div>"
      ],
      "text/plain": [
       "        balance  market_cap  weight\n",
       "symbol                             \n",
       "CGLD       0.00         NaN     0.9\n",
       "LOOM       0.00         NaN     NaN\n",
       "PAX        0.00         NaN     NaN\n",
       "USD        0.08         NaN     NaN"
      ]
     },
     "execution_count": 11,
     "metadata": {},
     "output_type": "execute_result"
    }
   ],
   "source": [
    "# Missing market caps\n",
    "df[df[\"market_cap\"].isnull()]"
   ]
  },
  {
   "cell_type": "code",
   "execution_count": 12,
   "id": "122b09fb-ea9a-4029-9bd7-2db0a9a59179",
   "metadata": {},
   "outputs": [],
   "source": [
    "df = df[~df[\"market_cap\"].isnull()]"
   ]
  },
  {
   "cell_type": "code",
   "execution_count": 13,
   "id": "a6a18a34-89b2-4db0-b572-9fb89233858b",
   "metadata": {},
   "outputs": [
    {
     "data": {
      "text/html": [
       "<div>\n",
       "<style scoped>\n",
       "    .dataframe tbody tr th:only-of-type {\n",
       "        vertical-align: middle;\n",
       "    }\n",
       "\n",
       "    .dataframe tbody tr th {\n",
       "        vertical-align: top;\n",
       "    }\n",
       "\n",
       "    .dataframe thead th {\n",
       "        text-align: right;\n",
       "    }\n",
       "</style>\n",
       "<table border=\"1\" class=\"dataframe\">\n",
       "  <thead>\n",
       "    <tr style=\"text-align: right;\">\n",
       "      <th></th>\n",
       "      <th>market_cap</th>\n",
       "      <th>weight</th>\n",
       "    </tr>\n",
       "    <tr>\n",
       "      <th>symbol</th>\n",
       "      <th></th>\n",
       "      <th></th>\n",
       "    </tr>\n",
       "  </thead>\n",
       "  <tbody>\n",
       "  </tbody>\n",
       "</table>\n",
       "</div>"
      ],
      "text/plain": [
       "Empty DataFrame\n",
       "Columns: [market_cap, weight]\n",
       "Index: []"
      ]
     },
     "execution_count": 13,
     "metadata": {},
     "output_type": "execute_result"
    }
   ],
   "source": [
    "# To be weighted\n",
    "df[df[\"weight\"].isnull()].sort_values(\"market_cap\", ascending=False)[[\"market_cap\", \"weight\"]]"
   ]
  },
  {
   "cell_type": "code",
   "execution_count": 14,
   "id": "b2ba4f18-490c-437e-908e-2101f540c214",
   "metadata": {},
   "outputs": [
    {
     "data": {
      "text/plain": [
       "<AxesSubplot:ylabel='Frequency'>"
      ]
     },
     "execution_count": 14,
     "metadata": {},
     "output_type": "execute_result"
    },
    {
     "data": {
      "application/vnd.jupyter.widget-view+json": {
       "model_id": "b7cef0d99a1e4c3b811adc233f52de14",
       "version_major": 2,
       "version_minor": 0
      },
      "image/png": "[encoded data removed]",
      "text/html": [
       "\n",
       "            <div style=\"display: inline-block;\">\n",
       "                <div class=\"jupyter-widgets widget-label\" style=\"text-align: center;\">\n",
       "                    Figure\n",
       "                </div>\n",
       "                <img src='data:image/png;base64,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' width=640.0/>\n",
       "            </div>\n",
       "        "
      ],
      "text/plain": [
       "Canvas(toolbar=Toolbar(toolitems=[('Home', 'Reset original view', 'home', 'home'), ('Back', 'Back to previous …"
      ]
     },
     "metadata": {},
     "output_type": "display_data"
    }
   ],
   "source": [
    "df = df[~df[\"weight\"].isnull()]\n",
    "df = df[~(df[\"weight\"] == 0)]\n",
    "df[\"custom_weighted_mc\"] = df[\"market_cap\"] * df[\"weight\"]\n",
    "df[\"custom_allocation_target\"] = df[\"custom_weighted_mc\"] / df[\"custom_weighted_mc\"].sum()\n",
    "df[\"log_custom_weighted_mc\"] = np.log(df[\"custom_weighted_mc\"])\n",
    "df[\"log_custom_weighted_allocation_target\"] = df[\"log_custom_weighted_mc\"] / df[\"log_custom_weighted_mc\"].sum()\n",
    "log_weight = 0.3\n",
    "df[\"fully_weighted_allocation_target\"] = (df[\"log_custom_weighted_allocation_target\"] * log_weight) + (df[\"custom_allocation_target\"] * (1-log_weight))\n",
    "%matplotlib widget\n",
    "df[\"fully_weighted_allocation_target\"].plot.hist(bins=100)"
   ]
  },
  {
   "cell_type": "code",
   "execution_count": 18,
   "id": "13727ce3-998c-4d43-b905-e73957e72794",
   "metadata": {},
   "outputs": [
    {
     "ename": "AttributeError",
     "evalue": "module 'credentials' has no attribute 'target_portfolio_size'",
     "output_type": "error",
     "traceback": [
      "\u001b[0;31m---------------------------------------------------------------------------\u001b[0m",
      "\u001b[0;31mAttributeError\u001b[0m                            Traceback (most recent call last)",
      "Input \u001b[0;32mIn [18]\u001b[0m, in \u001b[0;36m<cell line: 2>\u001b[0;34m()\u001b[0m\n\u001b[1;32m      1\u001b[0m df[\u001b[38;5;124m\"\u001b[39m\u001b[38;5;124mcurrent_allocation\u001b[39m\u001b[38;5;124m\"\u001b[39m] \u001b[38;5;241m=\u001b[39m df[\u001b[38;5;124m\"\u001b[39m\u001b[38;5;124mbalance\u001b[39m\u001b[38;5;124m\"\u001b[39m] \u001b[38;5;241m/\u001b[39m df[\u001b[38;5;124m\"\u001b[39m\u001b[38;5;124mbalance\u001b[39m\u001b[38;5;124m\"\u001b[39m]\u001b[38;5;241m.\u001b[39msum()\n\u001b[0;32m----> 2\u001b[0m df[\u001b[38;5;124m\"\u001b[39m\u001b[38;5;124mtarget_allocation\u001b[39m\u001b[38;5;124m\"\u001b[39m] \u001b[38;5;241m=\u001b[39m df[\u001b[38;5;124m\"\u001b[39m\u001b[38;5;124mfully_weighted_allocation_target\u001b[39m\u001b[38;5;124m\"\u001b[39m] \u001b[38;5;241m*\u001b[39m \u001b[43mcredentials\u001b[49m\u001b[38;5;241;43m.\u001b[39;49m\u001b[43mtarget_portfolio_size\u001b[49m\n\u001b[1;32m      3\u001b[0m df[\u001b[38;5;124m\"\u001b[39m\u001b[38;5;124mdelta\u001b[39m\u001b[38;5;124m\"\u001b[39m] \u001b[38;5;241m=\u001b[39m df[\u001b[38;5;124m\"\u001b[39m\u001b[38;5;124mtarget_allocation\u001b[39m\u001b[38;5;124m\"\u001b[39m] \u001b[38;5;241m-\u001b[39m df[\u001b[38;5;124m\"\u001b[39m\u001b[38;5;124mbalance\u001b[39m\u001b[38;5;124m\"\u001b[39m]\n",
      "\u001b[0;31mAttributeError\u001b[0m: module 'credentials' has no attribute 'target_portfolio_size'"
     ]
    }
   ],
   "source": [
    "df[\"current_allocation\"] = df[\"balance\"] / df[\"balance\"].sum()\n",
    "df[\"target_allocation\"] = df[\"fully_weighted_allocation_target\"] * credentials.target_portfolio_size\n",
    "df[\"delta\"] = df[\"target_allocation\"] - df[\"balance\"]\n",
    "# df[[\"balance\", \"fully_weighted_allocation_target\", \"target_allocation\", \"delta\"]].sort_values(\"delta\", ascending=False)\n",
    "# df.sort_values(\"delta\", ascending=False)\n",
    "\n",
    "# TODO portfolio size neutral trades"
   ]
  },
  {
   "cell_type": "code",
   "execution_count": 17,
   "id": "98322dd3-9540-40e1-b18d-621ba73e64d8",
   "metadata": {},
   "outputs": [],
   "source": [
    "# TODO exclude TLH\n"
   ]
  }
 ],
 "metadata": {
  "kernelspec": {
   "display_name": "Python 3 (ipykernel)",
   "language": "python",
   "name": "python3"
  },
  "language_info": {
   "codemirror_mode": {
    "name": "ipython",
    "version": 3
   },
   "file_extension": ".py",
   "mimetype": "text/x-python",
   "name": "python",
   "nbconvert_exporter": "python",
   "pygments_lexer": "ipython3",
   "version": "3.9.4"
  }
 },
 "nbformat": 4,
 "nbformat_minor": 5
}
