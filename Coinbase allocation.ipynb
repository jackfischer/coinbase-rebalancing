{
 "cells": [
  {
   "cell_type": "code",
   "execution_count": 23,
   "id": "32455831-8901-404d-a365-e8d74592d430",
   "metadata": {},
   "outputs": [],
   "source": [
    "import requests\n",
    "import pandas as pd\n",
    "import hmac\n",
    "import hashlib\n",
    "from datetime import datetime\n",
    "import numpy as np"
   ]
  },
  {
   "cell_type": "code",
   "execution_count": 24,
   "id": "7ff541a2-80f8-48fe-a8f9-0945fd0eb8c7",
   "metadata": {},
   "outputs": [],
   "source": [
    "import credentials\n",
    "secret_bytes = bytes(credentials.secret , 'latin-1')"
   ]
  },
  {
   "cell_type": "code",
   "execution_count": 25,
   "id": "06b132bf-da90-46db-84e3-29afbc25d42b",
   "metadata": {},
   "outputs": [],
   "source": [
    "def generate_access_sign(timestamp, method, requestPath, body):\n",
    "    message = timestamp + method + requestPath + body\n",
    "    message_bytes = bytes(message , 'latin-1')\n",
    "    signature = hmac.new(secret_bytes, message_bytes, digestmod = hashlib.sha256).hexdigest()\n",
    "    return signature"
   ]
  },
  {
   "cell_type": "code",
   "execution_count": 26,
   "id": "be3853fe-687e-4406-a748-62b81a632c6e",
   "metadata": {},
   "outputs": [],
   "source": [
    "def coinbase_api(path):\n",
    "    BASE = \"https://api.coinbase.com\"\n",
    "    timestamp = str(round(datetime.now().timestamp()))\n",
    "    signature = generate_access_sign(timestamp, \"GET\", path, \"\")\n",
    "    HEADERS = {\n",
    "        \"CB-ACCESS-KEY\": credentials.key,\n",
    "        \"CB-ACCESS-SIGN\": signature,\n",
    "        \"CB-ACCESS-TIMESTAMP\": timestamp\n",
    "    }\n",
    "    return requests.get(BASE+path, headers=HEADERS)\n",
    "\n",
    "wallets_request = coinbase_api(\"/v2/accounts?limit=300\")"
   ]
  },
  {
   "cell_type": "code",
   "execution_count": 27,
   "id": "151ff1f8-7ff7-4a5a-bbaa-cebb0ed98a8d",
   "metadata": {},
   "outputs": [],
   "source": [
    "assets = pd.DataFrame.from_dict(wallets_request.json()[\"data\"])\n",
    "assets[\"balance\"] = assets[\"native_balance\"].apply(lambda balance: float(balance[\"amount\"]))\n",
    "assets = assets[[\"currency\", \"balance\", \"id\"]].set_index(\"currency\")\n",
    "assets.rename_axis(\"symbol\", inplace=True)"
   ]
  },
  {
   "cell_type": "code",
   "execution_count": 28,
   "id": "9c57a595-2a20-4b98-a266-e2e8ba7da4d7",
   "metadata": {},
   "outputs": [],
   "source": [
    "# Tidy up coinbase data\n",
    "assets.rename(index={'CGLD':'CELO'}, inplace=True)\n",
    "assets.drop(index=\"USD\", inplace=True)"
   ]
  },
  {
   "cell_type": "code",
   "execution_count": 29,
   "id": "54a052b6-f5d7-4a6a-8c4f-e418ce7c2172",
   "metadata": {},
   "outputs": [],
   "source": [
    "mc_dicts = []\n",
    "for page in range(1, 20):\n",
    "    results = requests.get(f\"https://api.coingecko.com/api/v3/coins/markets?vs_currency=usd&order=market_cap_desc&per_page=250&page={page}&sparkline=false\").json()\n",
    "    mc_dicts.extend(results)"
   ]
  },
  {
   "cell_type": "code",
   "execution_count": 30,
   "id": "d6e89063-fed1-42a6-901c-687a75608bd0",
   "metadata": {},
   "outputs": [],
   "source": [
    "mc = pd.DataFrame.from_dict(mc_dicts)\n",
    "mc[\"symbol\"] = mc[\"symbol\"].str.upper()\n",
    "mc.set_index(\"symbol\", inplace=True)\n",
    "mc = mc[[\"market_cap\"]]\n",
    "mc = mc[~(mc[\"market_cap\"] == 0)]\n",
    "# mc[mc.index.duplicated()].sort_index()\n"
   ]
  },
  {
   "cell_type": "code",
   "execution_count": 31,
   "id": "b1a97228-290a-4df7-aecd-51494eeeb53c",
   "metadata": {},
   "outputs": [],
   "source": [
    "df = assets.join(mc)"
   ]
  },
  {
   "cell_type": "code",
   "execution_count": 32,
   "id": "b2eaa888-7a7f-477b-ab6d-721cb5239536",
   "metadata": {},
   "outputs": [],
   "source": [
    "weights = pd.read_csv('active_weights.csv', index_col=\"symbol\")\n",
    "weights[\"weight\"] = pd.to_numeric(weights[\"weight\"])\n",
    "df = df.join(weights)"
   ]
  },
  {
   "cell_type": "code",
   "execution_count": 33,
   "id": "1915e3cf-4510-404a-b28a-1cfabba77dae",
   "metadata": {},
   "outputs": [
    {
     "data": {
      "text/html": [
       "<div>\n",
       "<style scoped>\n",
       "    .dataframe tbody tr th:only-of-type {\n",
       "        vertical-align: middle;\n",
       "    }\n",
       "\n",
       "    .dataframe tbody tr th {\n",
       "        vertical-align: top;\n",
       "    }\n",
       "\n",
       "    .dataframe thead th {\n",
       "        text-align: right;\n",
       "    }\n",
       "</style>\n",
       "<table border=\"1\" class=\"dataframe\">\n",
       "  <thead>\n",
       "    <tr style=\"text-align: right;\">\n",
       "      <th></th>\n",
       "      <th>balance</th>\n",
       "      <th>id</th>\n",
       "      <th>market_cap</th>\n",
       "      <th>weight</th>\n",
       "    </tr>\n",
       "    <tr>\n",
       "      <th>symbol</th>\n",
       "      <th></th>\n",
       "      <th></th>\n",
       "      <th></th>\n",
       "      <th></th>\n",
       "    </tr>\n",
       "  </thead>\n",
       "  <tbody>\n",
       "    <tr>\n",
       "      <th>LOOM</th>\n",
       "      <td>0.0</td>\n",
       "      <td>d1e2d5dd-c742-55e5-a60b-5d20b8658568</td>\n",
       "      <td>NaN</td>\n",
       "      <td>NaN</td>\n",
       "    </tr>\n",
       "    <tr>\n",
       "      <th>PAX</th>\n",
       "      <td>0.0</td>\n",
       "      <td>PAX</td>\n",
       "      <td>NaN</td>\n",
       "      <td>0.0</td>\n",
       "    </tr>\n",
       "  </tbody>\n",
       "</table>\n",
       "</div>"
      ],
      "text/plain": [
       "        balance                                    id  market_cap  weight\n",
       "symbol                                                                   \n",
       "LOOM        0.0  d1e2d5dd-c742-55e5-a60b-5d20b8658568         NaN     NaN\n",
       "PAX         0.0                                   PAX         NaN     0.0"
      ]
     },
     "execution_count": 33,
     "metadata": {},
     "output_type": "execute_result"
    }
   ],
   "source": [
    "# Missing market caps\n",
    "df[df[\"market_cap\"].isnull()]"
   ]
  },
  {
   "cell_type": "code",
   "execution_count": 34,
   "id": "122b09fb-ea9a-4029-9bd7-2db0a9a59179",
   "metadata": {},
   "outputs": [],
   "source": [
    "df = df[~df[\"market_cap\"].isnull()]"
   ]
  },
  {
   "cell_type": "code",
   "execution_count": 35,
   "id": "a6a18a34-89b2-4db0-b572-9fb89233858b",
   "metadata": {},
   "outputs": [
    {
     "data": {
      "text/html": [
       "<div>\n",
       "<style scoped>\n",
       "    .dataframe tbody tr th:only-of-type {\n",
       "        vertical-align: middle;\n",
       "    }\n",
       "\n",
       "    .dataframe tbody tr th {\n",
       "        vertical-align: top;\n",
       "    }\n",
       "\n",
       "    .dataframe thead th {\n",
       "        text-align: right;\n",
       "    }\n",
       "</style>\n",
       "<table border=\"1\" class=\"dataframe\">\n",
       "  <thead>\n",
       "    <tr style=\"text-align: right;\">\n",
       "      <th></th>\n",
       "      <th>market_cap</th>\n",
       "      <th>weight</th>\n",
       "    </tr>\n",
       "    <tr>\n",
       "      <th>symbol</th>\n",
       "      <th></th>\n",
       "      <th></th>\n",
       "    </tr>\n",
       "  </thead>\n",
       "  <tbody>\n",
       "  </tbody>\n",
       "</table>\n",
       "</div>"
      ],
      "text/plain": [
       "Empty DataFrame\n",
       "Columns: [market_cap, weight]\n",
       "Index: []"
      ]
     },
     "execution_count": 35,
     "metadata": {},
     "output_type": "execute_result"
    }
   ],
   "source": [
    "# To be weighted\n",
    "df[df[\"weight\"].isnull()].sort_values(\"market_cap\", ascending=False)[[\"market_cap\", \"weight\"]]"
   ]
  },
  {
   "cell_type": "code",
   "execution_count": 43,
   "id": "b2ba4f18-490c-437e-908e-2101f540c214",
   "metadata": {},
   "outputs": [
    {
     "data": {
      "text/plain": [
       "<AxesSubplot:ylabel='Frequency'>"
      ]
     },
     "execution_count": 43,
     "metadata": {},
     "output_type": "execute_result"
    },
    {
     "data": {
      "application/vnd.jupyter.widget-view+json": {
       "model_id": "129f3859861f4587bba1191750cc927d",
       "version_major": 2,
       "version_minor": 0
      },
      "image/png": "[encoded data removed]",
      "text/html": [
       "\n",
       "            <div style=\"display: inline-block;\">\n",
       "                <div class=\"jupyter-widgets widget-label\" style=\"text-align: center;\">\n",
       "                    Figure\n",
       "                </div>\n",
       "                <img src='data:image/png;base64,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' width=640.0/>\n",
       "            </div>\n",
       "        "
      ],
      "text/plain": [
       "Canvas(toolbar=Toolbar(toolitems=[('Home', 'Reset original view', 'home', 'home'), ('Back', 'Back to previous …"
      ]
     },
     "metadata": {},
     "output_type": "display_data"
    }
   ],
   "source": [
    "df = df[~df[\"weight\"].isnull()]\n",
    "df = df[~(df[\"weight\"] == 0)]\n",
    "df[\"custom_weighted_mc\"] = df[\"market_cap\"] * df[\"weight\"]\n",
    "df[\"custom_allocation_target\"] = df[\"custom_weighted_mc\"] / df[\"custom_weighted_mc\"].sum()\n",
    "df[\"log_custom_weighted_mc\"] = np.log(df[\"custom_weighted_mc\"])\n",
    "df[\"log_custom_weighted_allocation_target\"] = df[\"log_custom_weighted_mc\"] / df[\"log_custom_weighted_mc\"].sum()\n",
    "log_weight = 0.3\n",
    "df[\"fully_weighted_allocation_target\"] = (df[\"log_custom_weighted_allocation_target\"] * log_weight) + (df[\"custom_allocation_target\"] * (1-log_weight))\n",
    "%matplotlib widget\n",
    "df[\"fully_weighted_allocation_target\"].plot.hist(bins=100)"
   ]
  },
  {
   "cell_type": "code",
   "execution_count": 37,
   "id": "13727ce3-998c-4d43-b905-e73957e72794",
   "metadata": {},
   "outputs": [],
   "source": [
    "df[\"current_allocation\"] = df[\"balance\"] / df[\"balance\"].sum()\n",
    "df[\"target_allocation\"] = df[\"fully_weighted_allocation_target\"] * credentials.target_portfolio_size\n",
    "df[\"delta\"] = df[\"target_allocation\"] - df[\"balance\"]\n",
    "# df[[\"balance\", \"fully_weighted_allocation_target\", \"target_allocation\", \"delta\"]].sort_values(\"delta\", ascending=False)"
   ]
  },
  {
   "cell_type": "code",
   "execution_count": 38,
   "id": "98322dd3-9540-40e1-b18d-621ba73e64d8",
   "metadata": {},
   "outputs": [],
   "source": [
    "\n",
    "def get_latest_tx(row):\n",
    "    tx_request = coinbase_api(f\"/v2/accounts/{row.id}/transactions\")\n",
    "    transactions = pd.DataFrame.from_dict(tx_request.json()[\"data\"])\n",
    "    if transactions.empty:\n",
    "        return row\n",
    "    transactions[\"timestamp\"] = pd.to_datetime(transactions[\"updated_at\"])\n",
    "    transactions[\"symbol\"] = row.name\n",
    "    x = transactions.groupby(by=[\"type\", \"symbol\"])[[\"timestamp\"]].agg(\"max\")\n",
    "    x = x.reset_index(level=\"type\")\n",
    "    x = x.pivot(index=None, columns=\"type\", values=\"timestamp\")\n",
    "    row[\"last_bought\"] = x[\"buy\"][0] if \"buy\" in x.columns else None\n",
    "    row[\"last_sold\"] = x[\"sell\"][0] if \"sell\" in x.columns else None # TODO figure out the non cringe way to accomplish this\n",
    "    return row\n"
   ]
  },
  {
   "cell_type": "code",
   "execution_count": 39,
   "id": "0b5f1823-33e3-47f2-b6e6-2ffdd1c8194b",
   "metadata": {},
   "outputs": [],
   "source": [
    "df = df.apply(get_latest_tx, axis='columns')"
   ]
  },
  {
   "cell_type": "code",
   "execution_count": 40,
   "id": "29475c80-de3c-40c3-9776-0f801fce5520",
   "metadata": {},
   "outputs": [],
   "source": [
    "df[\"last_sold\"] = df[\"last_sold\"].dt.tz_localize(None)\n",
    "df[\"last_bought\"] = df[\"last_bought\"].dt.tz_localize(None)\n",
    "beginning_of_window = np.datetime64(pd.Timestamp(\"now\") - pd.Timedelta(days=31))"
   ]
  },
  {
   "cell_type": "code",
   "execution_count": 41,
   "id": "d024a7b9-7efd-4afd-b7e4-7bd4d2a076c9",
   "metadata": {},
   "outputs": [],
   "source": [
    "df[\"tlh_safe\"] = (\n",
    "    (df[\"delta\"] < 0) & (df[\"last_bought\"] < beginning_of_window)\n",
    ") | (\n",
    "    (df[\"delta\"] > 0) & (df[\"last_sold\"] < beginning_of_window)\n",
    ")\n",
    "df = df[df[\"tlh_safe\"]]"
   ]
  },
  {
   "cell_type": "code",
   "execution_count": 44,
   "id": "e6622633-fe0c-478b-a634-0612cd7db8e5",
   "metadata": {},
   "outputs": [],
   "source": [
    "# df[[\"balance\", \"fully_weighted_allocation_target\", \"target_allocation\", \"delta\"]].sort_values(\"delta\", ascending=False)"
   ]
  }
 ],
 "metadata": {
  "kernelspec": {
   "display_name": "Python 3 (ipykernel)",
   "language": "python",
   "name": "python3"
  },
  "language_info": {
   "codemirror_mode": {
    "name": "ipython",
    "version": 3
   },
   "file_extension": ".py",
   "mimetype": "text/x-python",
   "name": "python",
   "nbconvert_exporter": "python",
   "pygments_lexer": "ipython3",
   "version": "3.9.4"
  }
 },
 "nbformat": 4,
 "nbformat_minor": 5
}
