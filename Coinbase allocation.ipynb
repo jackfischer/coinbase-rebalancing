{
 "cells": [
  {
   "cell_type": "code",
   "execution_count": 17,
   "id": "32455831-8901-404d-a365-e8d74592d430",
   "metadata": {},
   "outputs": [],
   "source": [
    "import requests\n",
    "import pandas as pd\n",
    "import hmac\n",
    "import hashlib\n",
    "from datetime import datetime"
   ]
  },
  {
   "cell_type": "code",
   "execution_count": 62,
   "id": "7ff541a2-80f8-48fe-a8f9-0945fd0eb8c7",
   "metadata": {},
   "outputs": [],
   "source": [
    "import credentials\n",
    "secret_bytes = bytes(credentials.secret , 'latin-1')"
   ]
  },
  {
   "cell_type": "code",
   "execution_count": 36,
   "id": "9a0272a1-099d-4510-8269-2c25d2fa5835",
   "metadata": {},
   "outputs": [],
   "source": [
    "rates = requests.get(\"https://api.coinbase.com/v2/exchange-rates\").json()[\"data\"][\"rates\"]"
   ]
  },
  {
   "cell_type": "code",
   "execution_count": 38,
   "id": "37f40c4a-f26b-4515-aea1-e9be372752ca",
   "metadata": {},
   "outputs": [],
   "source": []
  },
  {
   "cell_type": "code",
   "execution_count": 60,
   "id": "06b132bf-da90-46db-84e3-29afbc25d42b",
   "metadata": {},
   "outputs": [],
   "source": [
    "def generate_access_sign(timestamp, method, requestPath, body):\n",
    "    message = timestamp + method + requestPath + body\n",
    "    message_bytes = bytes(message , 'latin-1')\n",
    "    signature = hmac.new(secret_bytes, message_bytes, digestmod = hashlib.sha256).hexdigest()\n",
    "    return signature"
   ]
  },
  {
   "cell_type": "code",
   "execution_count": null,
   "id": "c4f633f1-dec2-48ac-90ac-b6ce29830f8a",
   "metadata": {},
   "outputs": [],
   "source": []
  },
  {
   "cell_type": "code",
   "execution_count": 64,
   "id": "be3853fe-687e-4406-a748-62b81a632c6e",
   "metadata": {},
   "outputs": [],
   "source": [
    "BASE = \"https://api.coinbase.com\"\n",
    "PATH = \"/v2/accounts\"\n",
    "timestamp = str(round(datetime.now().timestamp()))\n",
    "signature = generate_access_sign(timestamp, \"GET\", PATH, \"\")\n",
    "HEADERS = {\n",
    "    \"CB-ACCESS-KEY\": credentials.key,\n",
    "    \"CB-ACCESS-SIGN\": signature,\n",
    "    \"CB-ACCESS-TIMESTAMP\": timestamp\n",
    "}"
   ]
  },
  {
   "cell_type": "code",
   "execution_count": 63,
   "id": "151ff1f8-7ff7-4a5a-bbaa-cebb0ed98a8d",
   "metadata": {},
   "outputs": [],
   "source": [
    "wallets = requests.get(BASE+PATH, headers=HEADERS).json()"
   ]
  }
 ],
 "metadata": {
  "kernelspec": {
   "display_name": "Python 3 (ipykernel)",
   "language": "python",
   "name": "python3"
  },
  "language_info": {
   "codemirror_mode": {
    "name": "ipython",
    "version": 3
   },
   "file_extension": ".py",
   "mimetype": "text/x-python",
   "name": "python",
   "nbconvert_exporter": "python",
   "pygments_lexer": "ipython3",
   "version": "3.9.4"
  }
 },
 "nbformat": 4,
 "nbformat_minor": 5
}
