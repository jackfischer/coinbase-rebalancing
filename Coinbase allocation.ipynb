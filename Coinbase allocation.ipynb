{
 "cells": [
  {
   "cell_type": "code",
   "execution_count": 196,
   "id": "32455831-8901-404d-a365-e8d74592d430",
   "metadata": {},
   "outputs": [],
   "source": [
    "import requests\n",
    "import pandas as pd\n",
    "import hmac\n",
    "import hashlib\n",
    "from datetime import datetime\n",
    "import numpy as np"
   ]
  },
  {
   "cell_type": "code",
   "execution_count": 197,
   "id": "7ff541a2-80f8-48fe-a8f9-0945fd0eb8c7",
   "metadata": {},
   "outputs": [],
   "source": [
    "import credentials\n",
    "secret_bytes = bytes(credentials.secret , 'latin-1')"
   ]
  },
  {
   "cell_type": "code",
   "execution_count": 198,
   "id": "9a0272a1-099d-4510-8269-2c25d2fa5835",
   "metadata": {},
   "outputs": [],
   "source": [
    "# rates = requests.get(\"https://api.coinbase.com/v2/exchange-rates\").json()[\"data\"][\"rates\"]\n"
   ]
  },
  {
   "cell_type": "code",
   "execution_count": 199,
   "id": "06b132bf-da90-46db-84e3-29afbc25d42b",
   "metadata": {},
   "outputs": [],
   "source": [
    "def generate_access_sign(timestamp, method, requestPath, body):\n",
    "    message = timestamp + method + requestPath + body\n",
    "    message_bytes = bytes(message , 'latin-1')\n",
    "    signature = hmac.new(secret_bytes, message_bytes, digestmod = hashlib.sha256).hexdigest()\n",
    "    return signature"
   ]
  },
  {
   "cell_type": "code",
   "execution_count": 200,
   "id": "be3853fe-687e-4406-a748-62b81a632c6e",
   "metadata": {},
   "outputs": [],
   "source": [
    "def coinbase_api(path):\n",
    "    BASE = \"https://api.coinbase.com\"\n",
    "    timestamp = str(round(datetime.now().timestamp()))\n",
    "    signature = generate_access_sign(timestamp, \"GET\", path, \"\")\n",
    "    HEADERS = {\n",
    "        \"CB-ACCESS-KEY\": credentials.key,\n",
    "        \"CB-ACCESS-SIGN\": signature,\n",
    "        \"CB-ACCESS-TIMESTAMP\": timestamp\n",
    "    }\n",
    "    return requests.get(BASE+path, headers=HEADERS)\n",
    "\n",
    "wallets_request = coinbase_api(\"/v2/accounts?limit=300\")"
   ]
  },
  {
   "cell_type": "code",
   "execution_count": 201,
   "id": "151ff1f8-7ff7-4a5a-bbaa-cebb0ed98a8d",
   "metadata": {},
   "outputs": [],
   "source": [
    "assets = pd.DataFrame.from_dict(wallets_request.json()[\"data\"])\n",
    "assets[\"balance\"] = assets[\"native_balance\"].apply(lambda balance: float(balance[\"amount\"]))\n",
    "assets = assets[[\"currency\", \"balance\", \"id\"]].set_index(\"currency\")\n",
    "assets.rename_axis(\"symbol\", inplace=True)"
   ]
  },
  {
   "cell_type": "code",
   "execution_count": 216,
   "id": "9c57a595-2a20-4b98-a266-e2e8ba7da4d7",
   "metadata": {},
   "outputs": [],
   "source": [
    "# Tidy up coinbase data\n",
    "assets.rename(index={'CGLD':'CELO'}, inplace=True)\n",
    "assets.drop(index=\"USD\", inplace=True)"
   ]
  },
  {
   "cell_type": "code",
   "execution_count": 203,
   "id": "54a052b6-f5d7-4a6a-8c4f-e418ce7c2172",
   "metadata": {},
   "outputs": [],
   "source": [
    "mc_dicts = []\n",
    "for page in range(1, 20):\n",
    "    results = requests.get(f\"https://api.coingecko.com/api/v3/coins/markets?vs_currency=usd&order=market_cap_desc&per_page=250&page={page}&sparkline=false\").json()\n",
    "    mc_dicts.extend(results)"
   ]
  },
  {
   "cell_type": "code",
   "execution_count": 204,
   "id": "d6e89063-fed1-42a6-901c-687a75608bd0",
   "metadata": {},
   "outputs": [],
   "source": [
    "mc = pd.DataFrame.from_dict(mc_dicts)\n",
    "mc[\"symbol\"] = mc[\"symbol\"].str.upper()\n",
    "mc.set_index(\"symbol\", inplace=True)\n",
    "mc = mc[[\"market_cap\"]]\n",
    "mc = mc[~(mc[\"market_cap\"] == 0)]\n",
    "# mc[mc.index.duplicated()].sort_index()\n"
   ]
  },
  {
   "cell_type": "code",
   "execution_count": 205,
   "id": "b1a97228-290a-4df7-aecd-51494eeeb53c",
   "metadata": {},
   "outputs": [],
   "source": [
    "df = assets.join(mc)"
   ]
  },
  {
   "cell_type": "code",
   "execution_count": 206,
   "id": "b2eaa888-7a7f-477b-ab6d-721cb5239536",
   "metadata": {},
   "outputs": [],
   "source": [
    "weights = pd.read_csv('active_weights.csv', index_col=\"symbol\")\n",
    "weights[\"weight\"] = pd.to_numeric(weights[\"weight\"])\n",
    "df = df.join(weights)"
   ]
  },
  {
   "cell_type": "code",
   "execution_count": 207,
   "id": "1915e3cf-4510-404a-b28a-1cfabba77dae",
   "metadata": {},
   "outputs": [
    {
     "data": {
      "text/html": [
       "<div>\n",
       "<style scoped>\n",
       "    .dataframe tbody tr th:only-of-type {\n",
       "        vertical-align: middle;\n",
       "    }\n",
       "\n",
       "    .dataframe tbody tr th {\n",
       "        vertical-align: top;\n",
       "    }\n",
       "\n",
       "    .dataframe thead th {\n",
       "        text-align: right;\n",
       "    }\n",
       "</style>\n",
       "<table border=\"1\" class=\"dataframe\">\n",
       "  <thead>\n",
       "    <tr style=\"text-align: right;\">\n",
       "      <th></th>\n",
       "      <th>balance</th>\n",
       "      <th>id</th>\n",
       "      <th>market_cap</th>\n",
       "      <th>weight</th>\n",
       "    </tr>\n",
       "    <tr>\n",
       "      <th>symbol</th>\n",
       "      <th></th>\n",
       "      <th></th>\n",
       "      <th></th>\n",
       "      <th></th>\n",
       "    </tr>\n",
       "  </thead>\n",
       "  <tbody>\n",
       "    <tr>\n",
       "      <th>LOOM</th>\n",
       "      <td>0.00</td>\n",
       "      <td>d1e2d5dd-c742-55e5-a60b-5d20b8658568</td>\n",
       "      <td>NaN</td>\n",
       "      <td>NaN</td>\n",
       "    </tr>\n",
       "    <tr>\n",
       "      <th>PAX</th>\n",
       "      <td>0.00</td>\n",
       "      <td>PAX</td>\n",
       "      <td>NaN</td>\n",
       "      <td>0.0</td>\n",
       "    </tr>\n",
       "    <tr>\n",
       "      <th>USD</th>\n",
       "      <td>100.08</td>\n",
       "      <td>5aa4c3df-fdea-5f94-9da9-e6610f2f9a9f</td>\n",
       "      <td>NaN</td>\n",
       "      <td>NaN</td>\n",
       "    </tr>\n",
       "  </tbody>\n",
       "</table>\n",
       "</div>"
      ],
      "text/plain": [
       "        balance                                    id  market_cap  weight\n",
       "symbol                                                                   \n",
       "LOOM       0.00  d1e2d5dd-c742-55e5-a60b-5d20b8658568         NaN     NaN\n",
       "PAX        0.00                                   PAX         NaN     0.0\n",
       "USD      100.08  5aa4c3df-fdea-5f94-9da9-e6610f2f9a9f         NaN     NaN"
      ]
     },
     "execution_count": 207,
     "metadata": {},
     "output_type": "execute_result"
    }
   ],
   "source": [
    "# Missing market caps\n",
    "df[df[\"market_cap\"].isnull()]"
   ]
  },
  {
   "cell_type": "code",
   "execution_count": 208,
   "id": "122b09fb-ea9a-4029-9bd7-2db0a9a59179",
   "metadata": {},
   "outputs": [],
   "source": [
    "df = df[~df[\"market_cap\"].isnull()]"
   ]
  },
  {
   "cell_type": "code",
   "execution_count": 209,
   "id": "a6a18a34-89b2-4db0-b572-9fb89233858b",
   "metadata": {},
   "outputs": [
    {
     "data": {
      "text/html": [
       "<div>\n",
       "<style scoped>\n",
       "    .dataframe tbody tr th:only-of-type {\n",
       "        vertical-align: middle;\n",
       "    }\n",
       "\n",
       "    .dataframe tbody tr th {\n",
       "        vertical-align: top;\n",
       "    }\n",
       "\n",
       "    .dataframe thead th {\n",
       "        text-align: right;\n",
       "    }\n",
       "</style>\n",
       "<table border=\"1\" class=\"dataframe\">\n",
       "  <thead>\n",
       "    <tr style=\"text-align: right;\">\n",
       "      <th></th>\n",
       "      <th>market_cap</th>\n",
       "      <th>weight</th>\n",
       "    </tr>\n",
       "    <tr>\n",
       "      <th>symbol</th>\n",
       "      <th></th>\n",
       "      <th></th>\n",
       "    </tr>\n",
       "  </thead>\n",
       "  <tbody>\n",
       "    <tr>\n",
       "      <th>CELO</th>\n",
       "      <td>558051172.0</td>\n",
       "      <td>NaN</td>\n",
       "    </tr>\n",
       "  </tbody>\n",
       "</table>\n",
       "</div>"
      ],
      "text/plain": [
       "         market_cap  weight\n",
       "symbol                     \n",
       "CELO    558051172.0     NaN"
      ]
     },
     "execution_count": 209,
     "metadata": {},
     "output_type": "execute_result"
    }
   ],
   "source": [
    "# To be weighted\n",
    "df[df[\"weight\"].isnull()].sort_values(\"market_cap\", ascending=False)[[\"market_cap\", \"weight\"]]"
   ]
  },
  {
   "cell_type": "code",
   "execution_count": 210,
   "id": "b2ba4f18-490c-437e-908e-2101f540c214",
   "metadata": {},
   "outputs": [
    {
     "data": {
      "text/plain": [
       "<AxesSubplot:ylabel='Frequency'>"
      ]
     },
     "execution_count": 210,
     "metadata": {},
     "output_type": "execute_result"
    },
    {
     "data": {
      "application/vnd.jupyter.widget-view+json": {
       "model_id": "1b52f0f5ae414b00831d258f39193039",
       "version_major": 2,
       "version_minor": 0
      },
      "image/png": "[encoded data removed]",
      "text/html": [
       "\n",
       "            <div style=\"display: inline-block;\">\n",
       "                <div class=\"jupyter-widgets widget-label\" style=\"text-align: center;\">\n",
       "                    Figure\n",
       "                </div>\n",
       "                <img src='data:image/png;base64,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' width=640.0/>\n",
       "            </div>\n",
       "        "
      ],
      "text/plain": [
       "Canvas(toolbar=Toolbar(toolitems=[('Home', 'Reset original view', 'home', 'home'), ('Back', 'Back to previous …"
      ]
     },
     "metadata": {},
     "output_type": "display_data"
    }
   ],
   "source": [
    "df = df[~df[\"weight\"].isnull()]\n",
    "df = df[~(df[\"weight\"] == 0)]\n",
    "df[\"custom_weighted_mc\"] = df[\"market_cap\"] * df[\"weight\"]\n",
    "df[\"custom_allocation_target\"] = df[\"custom_weighted_mc\"] / df[\"custom_weighted_mc\"].sum()\n",
    "df[\"log_custom_weighted_mc\"] = np.log(df[\"custom_weighted_mc\"])\n",
    "df[\"log_custom_weighted_allocation_target\"] = df[\"log_custom_weighted_mc\"] / df[\"log_custom_weighted_mc\"].sum()\n",
    "log_weight = 0.3\n",
    "df[\"fully_weighted_allocation_target\"] = (df[\"log_custom_weighted_allocation_target\"] * log_weight) + (df[\"custom_allocation_target\"] * (1-log_weight))\n",
    "%matplotlib widget\n",
    "df[\"fully_weighted_allocation_target\"].plot.hist(bins=100)"
   ]
  },
  {
   "cell_type": "code",
   "execution_count": 220,
   "id": "13727ce3-998c-4d43-b905-e73957e72794",
   "metadata": {},
   "outputs": [],
   "source": [
    "df[\"current_allocation\"] = df[\"balance\"] / df[\"balance\"].sum()\n",
    "df[\"target_allocation\"] = df[\"fully_weighted_allocation_target\"] * credentials.target_portfolio_size\n",
    "df[\"delta\"] = df[\"target_allocation\"] - df[\"balance\"]\n",
    "# df[[\"balance\", \"fully_weighted_allocation_target\", \"target_allocation\", \"delta\"]].sort_values(\"delta\", ascending=False)"
   ]
  },
  {
   "cell_type": "code",
   "execution_count": 212,
   "id": "98322dd3-9540-40e1-b18d-621ba73e64d8",
   "metadata": {},
   "outputs": [],
   "source": [
    "\n",
    "def get_latest_tx(row):\n",
    "    tx_request = coinbase_api(f\"/v2/accounts/{row.id}/transactions\")\n",
    "    transactions = pd.DataFrame.from_dict(tx_request.json()[\"data\"])\n",
    "    if transactions.empty:\n",
    "        return row\n",
    "    transactions[\"timestamp\"] = pd.to_datetime(transactions[\"updated_at\"])\n",
    "    transactions[\"symbol\"] = row.name\n",
    "    x = transactions.groupby(by=[\"type\", \"symbol\"])[[\"timestamp\"]].agg(\"max\")\n",
    "    x = x.reset_index(level=\"type\")\n",
    "    x = x.pivot(index=None, columns=\"type\", values=\"timestamp\")\n",
    "    row[\"last_bought\"] = x[\"buy\"][0] if \"buy\" in x.columns else None\n",
    "    row[\"last_sold\"] = x[\"sell\"][0] if \"sell\" in x.columns else None # TODO figure out the non cringe way to accomplish this\n",
    "    return row\n"
   ]
  },
  {
   "cell_type": "code",
   "execution_count": 213,
   "id": "0b5f1823-33e3-47f2-b6e6-2ffdd1c8194b",
   "metadata": {},
   "outputs": [],
   "source": [
    "df = df.apply(get_latest_tx, axis='columns')"
   ]
  },
  {
   "cell_type": "code",
   "execution_count": 214,
   "id": "29475c80-de3c-40c3-9776-0f801fce5520",
   "metadata": {},
   "outputs": [],
   "source": [
    "df[\"last_sold\"] = df[\"last_sold\"].dt.tz_localize(None)\n",
    "df[\"last_bought\"] = df[\"last_bought\"].dt.tz_localize(None)\n",
    "beginning_of_window = np.datetime64(pd.Timestamp(\"now\") - pd.Timedelta(days=31))"
   ]
  },
  {
   "cell_type": "code",
   "execution_count": 219,
   "id": "d024a7b9-7efd-4afd-b7e4-7bd4d2a076c9",
   "metadata": {},
   "outputs": [],
   "source": [
    "df[\"tlh_safe\"] = (\n",
    "    (df[\"delta\"] < 0) & (df[\"last_sold\"] < beginning_of_window)\n",
    ") | (\n",
    "    (df[\"delta\"] > 0) & (df[\"last_bought\"] < beginning_of_window)\n",
    ")\n",
    "# df[~df[\"tlh_safe\"]]\n",
    "# df[[\"balance\", \"fully_weighted_allocation_target\", \"target_allocation\", \"delta\", \"tlh_safe\"]].sort_values(\"delta\", ascending=False)"
   ]
  }
 ],
 "metadata": {
  "kernelspec": {
   "display_name": "Python 3 (ipykernel)",
   "language": "python",
   "name": "python3"
  },
  "language_info": {
   "codemirror_mode": {
    "name": "ipython",
    "version": 3
   },
   "file_extension": ".py",
   "mimetype": "text/x-python",
   "name": "python",
   "nbconvert_exporter": "python",
   "pygments_lexer": "ipython3",
   "version": "3.9.4"
  }
 },
 "nbformat": 4,
 "nbformat_minor": 5
}
