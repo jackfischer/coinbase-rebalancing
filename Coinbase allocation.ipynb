{
 "cells": [
  {
   "cell_type": "code",
   "execution_count": 17,
   "id": "32455831-8901-404d-a365-e8d74592d430",
   "metadata": {},
   "outputs": [],
   "source": [
    "import requests\n",
    "import pandas as pd\n",
    "import hmac\n",
    "import hashlib\n",
    "from datetime import datetime"
   ]
  },
  {
   "cell_type": "code",
   "execution_count": 62,
   "id": "7ff541a2-80f8-48fe-a8f9-0945fd0eb8c7",
   "metadata": {},
   "outputs": [],
   "source": [
    "import credentials\n",
    "secret_bytes = bytes(credentials.secret , 'latin-1')"
   ]
  },
  {
   "cell_type": "code",
   "execution_count": 155,
   "id": "9a0272a1-099d-4510-8269-2c25d2fa5835",
   "metadata": {},
   "outputs": [],
   "source": [
    "# rates = requests.get(\"https://api.coinbase.com/v2/exchange-rates\").json()[\"data\"][\"rates\"]"
   ]
  },
  {
   "cell_type": "code",
   "execution_count": 60,
   "id": "06b132bf-da90-46db-84e3-29afbc25d42b",
   "metadata": {},
   "outputs": [],
   "source": [
    "def generate_access_sign(timestamp, method, requestPath, body):\n",
    "    message = timestamp + method + requestPath + body\n",
    "    message_bytes = bytes(message , 'latin-1')\n",
    "    signature = hmac.new(secret_bytes, message_bytes, digestmod = hashlib.sha256).hexdigest()\n",
    "    return signature"
   ]
  },
  {
   "cell_type": "code",
   "execution_count": 100,
   "id": "be3853fe-687e-4406-a748-62b81a632c6e",
   "metadata": {},
   "outputs": [],
   "source": [
    "BASE = \"https://api.coinbase.com\"\n",
    "PATH = \"/v2/accounts?limit=300\"\n",
    "timestamp = str(round(datetime.now().timestamp()))\n",
    "signature = generate_access_sign(timestamp, \"GET\", PATH, \"\")\n",
    "HEADERS = {\n",
    "    \"CB-ACCESS-KEY\": credentials.key,\n",
    "    \"CB-ACCESS-SIGN\": signature,\n",
    "    \"CB-ACCESS-TIMESTAMP\": timestamp\n",
    "}\n",
    "wallets_request = requests.get(BASE+PATH, headers=HEADERS)"
   ]
  },
  {
   "cell_type": "code",
   "execution_count": 217,
   "id": "151ff1f8-7ff7-4a5a-bbaa-cebb0ed98a8d",
   "metadata": {},
   "outputs": [],
   "source": [
    "assets = pd.DataFrame.from_dict(wallets_request.json()[\"data\"])\n",
    "assets[\"balance\"] = assets[\"native_balance\"].apply(lambda balance: float(balance[\"amount\"]))\n",
    "assets = assets[[\"currency\", \"balance\"]].set_index(\"currency\")\n",
    "assets.rename_axis(\"symbol\", inplace=True)"
   ]
  },
  {
   "cell_type": "code",
   "execution_count": 211,
   "id": "54a052b6-f5d7-4a6a-8c4f-e418ce7c2172",
   "metadata": {},
   "outputs": [],
   "source": [
    "mc_dicts = []\n",
    "for page in range(1, 20):\n",
    "    results = requests.get(f\"https://api.coingecko.com/api/v3/coins/markets?vs_currency=usd&order=market_cap_desc&per_page=250&page={page}&sparkline=false\").json()\n",
    "    mc_dicts.extend(results)"
   ]
  },
  {
   "cell_type": "code",
   "execution_count": 218,
   "id": "d6e89063-fed1-42a6-901c-687a75608bd0",
   "metadata": {},
   "outputs": [],
   "source": [
    "mc = pd.DataFrame.from_dict(mc_dicts)\n",
    "mc[\"symbol\"] = mc[\"symbol\"].str.upper()\n",
    "mc.set_index(\"symbol\", inplace=True)\n",
    "mc = mc[[\"market_cap\"]]"
   ]
  },
  {
   "cell_type": "code",
   "execution_count": 220,
   "id": "b1a97228-290a-4df7-aecd-51494eeeb53c",
   "metadata": {},
   "outputs": [],
   "source": [
    "df = assets.join(mc)"
   ]
  },
  {
   "cell_type": "code",
   "execution_count": 214,
   "id": "b2eaa888-7a7f-477b-ab6d-721cb5239536",
   "metadata": {},
   "outputs": [],
   "source": [
    "weights = pd.read_csv('active_weights.csv', index_col=\"symbol\")\n",
    "weights[\"weight\"] = pd.to_numeric(weights[\"weight\"])\n",
    "df = df.join(weights)"
   ]
  },
  {
   "cell_type": "code",
   "execution_count": 223,
   "id": "122b09fb-ea9a-4029-9bd7-2db0a9a59179",
   "metadata": {},
   "outputs": [],
   "source": [
    "# df[~df[\"market_cap\"].isnull()]"
   ]
  },
  {
   "cell_type": "code",
   "execution_count": null,
   "id": "b2ba4f18-490c-437e-908e-2101f540c214",
   "metadata": {},
   "outputs": [],
   "source": []
  }
 ],
 "metadata": {
  "kernelspec": {
   "display_name": "Python 3 (ipykernel)",
   "language": "python",
   "name": "python3"
  },
  "language_info": {
   "codemirror_mode": {
    "name": "ipython",
    "version": 3
   },
   "file_extension": ".py",
   "mimetype": "text/x-python",
   "name": "python",
   "nbconvert_exporter": "python",
   "pygments_lexer": "ipython3",
   "version": "3.9.4"
  }
 },
 "nbformat": 4,
 "nbformat_minor": 5
}
