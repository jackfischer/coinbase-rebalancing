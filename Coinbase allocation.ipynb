{
 "cells": [
  {
   "cell_type": "code",
   "execution_count": 5,
   "id": "32455831-8901-404d-a365-e8d74592d430",
   "metadata": {},
   "outputs": [],
   "source": [
    "import requests\n",
    "import pandas as pd\n",
    "import hmac\n",
    "import hashlib\n",
    "from datetime import datetime\n",
    "import numpy as np"
   ]
  },
  {
   "cell_type": "code",
   "execution_count": 6,
   "id": "7ff541a2-80f8-48fe-a8f9-0945fd0eb8c7",
   "metadata": {},
   "outputs": [],
   "source": [
    "import credentials\n",
    "secret_bytes = bytes(credentials.secret , 'latin-1')"
   ]
  },
  {
   "cell_type": "code",
   "execution_count": 7,
   "id": "d3549c4e-dfbe-473d-b28e-c130205be8c4",
   "metadata": {},
   "outputs": [
    {
     "data": {
      "text/html": [
       "<div>\n",
       "<style scoped>\n",
       "    .dataframe tbody tr th:only-of-type {\n",
       "        vertical-align: middle;\n",
       "    }\n",
       "\n",
       "    .dataframe tbody tr th {\n",
       "        vertical-align: top;\n",
       "    }\n",
       "\n",
       "    .dataframe thead th {\n",
       "        text-align: right;\n",
       "    }\n",
       "</style>\n",
       "<table border=\"1\" class=\"dataframe\">\n",
       "  <thead>\n",
       "    <tr style=\"text-align: right;\">\n",
       "      <th></th>\n",
       "      <th>rate</th>\n",
       "    </tr>\n",
       "  </thead>\n",
       "  <tbody>\n",
       "    <tr>\n",
       "      <th>1INCH</th>\n",
       "      <td>1.461988</td>\n",
       "    </tr>\n",
       "    <tr>\n",
       "      <th>AAVE</th>\n",
       "      <td>0.015193</td>\n",
       "    </tr>\n",
       "    <tr>\n",
       "      <th>ACH</th>\n",
       "      <td>82.179398</td>\n",
       "    </tr>\n",
       "    <tr>\n",
       "      <th>ADA</th>\n",
       "      <td>2.138809</td>\n",
       "    </tr>\n",
       "    <tr>\n",
       "      <th>AED</th>\n",
       "      <td>3.673100</td>\n",
       "    </tr>\n",
       "    <tr>\n",
       "      <th>...</th>\n",
       "      <td>...</td>\n",
       "    </tr>\n",
       "    <tr>\n",
       "      <th>ZEN</th>\n",
       "      <td>0.069493</td>\n",
       "    </tr>\n",
       "    <tr>\n",
       "      <th>ZMW</th>\n",
       "      <td>17.031341</td>\n",
       "    </tr>\n",
       "    <tr>\n",
       "      <th>ZRX</th>\n",
       "      <td>3.608363</td>\n",
       "    </tr>\n",
       "    <tr>\n",
       "      <th>ZWD</th>\n",
       "      <td>475.751200</td>\n",
       "    </tr>\n",
       "    <tr>\n",
       "      <th>ZWL</th>\n",
       "      <td>322.000000</td>\n",
       "    </tr>\n",
       "  </tbody>\n",
       "</table>\n",
       "<p>367 rows × 1 columns</p>\n",
       "</div>"
      ],
      "text/plain": [
       "             rate\n",
       "1INCH    1.461988\n",
       "AAVE     0.015193\n",
       "ACH     82.179398\n",
       "ADA      2.138809\n",
       "AED      3.673100\n",
       "...           ...\n",
       "ZEN      0.069493\n",
       "ZMW     17.031341\n",
       "ZRX      3.608363\n",
       "ZWD    475.751200\n",
       "ZWL    322.000000\n",
       "\n",
       "[367 rows x 1 columns]"
      ]
     },
     "execution_count": 7,
     "metadata": {},
     "output_type": "execute_result"
    }
   ],
   "source": [
    "rates_request = requests.get(\"https://api.coinbase.com/v2/exchange-rates?currency=USD\")\n",
    "rates = pd.DataFrame.from_dict(rates_request.json()[\"data\"])\n",
    "rates = rates[[\"rates\"]].astype(float).rename(columns={\"rates\": \"rate\"})\n",
    "rates"
   ]
  },
  {
   "cell_type": "code",
   "execution_count": 8,
   "id": "06b132bf-da90-46db-84e3-29afbc25d42b",
   "metadata": {},
   "outputs": [],
   "source": [
    "def generate_access_sign(timestamp, method, requestPath, body):\n",
    "    message = timestamp + method + requestPath + body\n",
    "    message_bytes = bytes(message , 'latin-1')\n",
    "    signature = hmac.new(secret_bytes, message_bytes, digestmod = hashlib.sha256).hexdigest()\n",
    "    return signature"
   ]
  },
  {
   "cell_type": "code",
   "execution_count": 9,
   "id": "be3853fe-687e-4406-a748-62b81a632c6e",
   "metadata": {},
   "outputs": [],
   "source": [
    "def coinbase_api(path):\n",
    "    BASE = \"https://api.coinbase.com\"\n",
    "    timestamp = str(round(datetime.now().timestamp()))\n",
    "    signature = generate_access_sign(timestamp, \"GET\", path, \"\")\n",
    "    HEADERS = {\n",
    "        \"CB-ACCESS-KEY\": credentials.key,\n",
    "        \"CB-ACCESS-SIGN\": signature,\n",
    "        \"CB-ACCESS-TIMESTAMP\": timestamp,\n",
    "        \"CB-VERSION\": \"2022-05-15\"\n",
    "    }\n",
    "    return requests.get(BASE+path, headers=HEADERS)\n",
    "\n",
    "wallets_request = coinbase_api(\"/v2/accounts?limit=300\")\n",
    "# display(wallets_request.json())"
   ]
  },
  {
   "cell_type": "code",
   "execution_count": 10,
   "id": "151ff1f8-7ff7-4a5a-bbaa-cebb0ed98a8d",
   "metadata": {},
   "outputs": [],
   "source": [
    "assets = pd.DataFrame.from_dict(wallets_request.json()[\"data\"])\n",
    "assets[\"symbol\"] = assets[\"balance\"].apply(lambda balance: balance[\"currency\"])\n",
    "assets[\"balance\"] = assets[\"balance\"].apply(lambda balance: float(balance[\"amount\"]))\n",
    "assets = assets[[\"symbol\", \"balance\", \"id\"]].set_index(\"symbol\")"
   ]
  },
  {
   "cell_type": "code",
   "execution_count": 11,
   "id": "f2cf7223-3c41-4d11-8595-405dc9e1f8fd",
   "metadata": {},
   "outputs": [],
   "source": [
    "assets = assets.join(rates)\n",
    "assets[\"balance\"] = assets[\"balance\"] / assets[\"rate\"]"
   ]
  },
  {
   "cell_type": "code",
   "execution_count": 12,
   "id": "e1664e00-e370-476b-84b1-72783fca0560",
   "metadata": {},
   "outputs": [],
   "source": [
    "# Tidy up coinbase data\n",
    "assets.rename(index={'CGLD':'CELO'}, inplace=True)\n",
    "assets.drop(index=\"USD\", inplace=True)\n",
    "\n",
    "# Handle TLH replacements\n",
    "assets.rename(index={\n",
    "    \"WBTC\": \"BTC\",\n",
    "    \"YFI\": \"ETH\",\n",
    "    \"BNT\": \"ETH\",\n",
    "    \"BCH\": \"ETH\",\n",
    "}, inplace=True)\n",
    "# assets = assets.groupby(\"symbol\").agg({\"balance\": [np.sum], \"id\": list})\n",
    "# assets.columns.droplevel()\n",
    "# assets\n",
    "\n",
    "assets = assets.groupby('symbol').agg(\n",
    "    balance=('balance', 'sum'),\n",
    "    wallets=('id', list)\n",
    ")"
   ]
  },
  {
   "cell_type": "code",
   "execution_count": 13,
   "id": "9c57a595-2a20-4b98-a266-e2e8ba7da4d7",
   "metadata": {},
   "outputs": [],
   "source": [
    "# with pd.option_context('display.max_rows', None, 'display.max_columns', None):\n",
    "#     display(assets)"
   ]
  },
  {
   "cell_type": "code",
   "execution_count": 14,
   "id": "54a052b6-f5d7-4a6a-8c4f-e418ce7c2172",
   "metadata": {},
   "outputs": [],
   "source": [
    "mc_dicts = []\n",
    "for page in range(1, 20):\n",
    "    results = requests.get(f\"https://api.coingecko.com/api/v3/coins/markets?vs_currency=usd&order=market_cap_desc&per_page=250&page={page}&sparkline=false\").json()\n",
    "    mc_dicts.extend(results)"
   ]
  },
  {
   "cell_type": "code",
   "execution_count": 15,
   "id": "d6e89063-fed1-42a6-901c-687a75608bd0",
   "metadata": {},
   "outputs": [],
   "source": [
    "mc = pd.DataFrame.from_dict(mc_dicts)\n",
    "mc[\"symbol\"] = mc[\"symbol\"].str.upper()\n",
    "mc.set_index(\"symbol\", inplace=True)\n",
    "mc = mc[[\"market_cap\"]]\n",
    "mc = mc[~(mc[\"market_cap\"] == 0)]\n",
    "# mc[mc.index.duplicated()].sort_index()\n"
   ]
  },
  {
   "cell_type": "code",
   "execution_count": 16,
   "id": "b1a97228-290a-4df7-aecd-51494eeeb53c",
   "metadata": {},
   "outputs": [],
   "source": [
    "df = assets.join(mc)"
   ]
  },
  {
   "cell_type": "code",
   "execution_count": 17,
   "id": "b2eaa888-7a7f-477b-ab6d-721cb5239536",
   "metadata": {},
   "outputs": [],
   "source": [
    "weights = pd.read_csv('active_weights.csv', index_col=\"symbol\")\n",
    "weights[\"weight\"] = pd.to_numeric(weights[\"weight\"])\n",
    "df = df.join(weights)"
   ]
  },
  {
   "cell_type": "code",
   "execution_count": 18,
   "id": "1915e3cf-4510-404a-b28a-1cfabba77dae",
   "metadata": {},
   "outputs": [
    {
     "data": {
      "text/html": [
       "<div>\n",
       "<style scoped>\n",
       "    .dataframe tbody tr th:only-of-type {\n",
       "        vertical-align: middle;\n",
       "    }\n",
       "\n",
       "    .dataframe tbody tr th {\n",
       "        vertical-align: top;\n",
       "    }\n",
       "\n",
       "    .dataframe thead th {\n",
       "        text-align: right;\n",
       "    }\n",
       "</style>\n",
       "<table border=\"1\" class=\"dataframe\">\n",
       "  <thead>\n",
       "    <tr style=\"text-align: right;\">\n",
       "      <th></th>\n",
       "      <th>balance</th>\n",
       "      <th>wallets</th>\n",
       "      <th>market_cap</th>\n",
       "      <th>weight</th>\n",
       "    </tr>\n",
       "    <tr>\n",
       "      <th>symbol</th>\n",
       "      <th></th>\n",
       "      <th></th>\n",
       "      <th></th>\n",
       "      <th></th>\n",
       "    </tr>\n",
       "  </thead>\n",
       "  <tbody>\n",
       "    <tr>\n",
       "      <th>BTRST</th>\n",
       "      <td>0.0</td>\n",
       "      <td>[BTRST]</td>\n",
       "      <td>NaN</td>\n",
       "      <td>NaN</td>\n",
       "    </tr>\n",
       "    <tr>\n",
       "      <th>LOOM</th>\n",
       "      <td>0.0</td>\n",
       "      <td>[d1e2d5dd-c742-55e5-a60b-5d20b8658568]</td>\n",
       "      <td>NaN</td>\n",
       "      <td>NaN</td>\n",
       "    </tr>\n",
       "    <tr>\n",
       "      <th>MCO2</th>\n",
       "      <td>0.0</td>\n",
       "      <td>[MCO2]</td>\n",
       "      <td>NaN</td>\n",
       "      <td>NaN</td>\n",
       "    </tr>\n",
       "    <tr>\n",
       "      <th>PAX</th>\n",
       "      <td>0.0</td>\n",
       "      <td>[PAX]</td>\n",
       "      <td>NaN</td>\n",
       "      <td>0.0</td>\n",
       "    </tr>\n",
       "    <tr>\n",
       "      <th>SHPING</th>\n",
       "      <td>0.0</td>\n",
       "      <td>[SHPING]</td>\n",
       "      <td>NaN</td>\n",
       "      <td>NaN</td>\n",
       "    </tr>\n",
       "  </tbody>\n",
       "</table>\n",
       "</div>"
      ],
      "text/plain": [
       "        balance                                 wallets  market_cap  weight\n",
       "symbol                                                                     \n",
       "BTRST       0.0                                 [BTRST]         NaN     NaN\n",
       "LOOM        0.0  [d1e2d5dd-c742-55e5-a60b-5d20b8658568]         NaN     NaN\n",
       "MCO2        0.0                                  [MCO2]         NaN     NaN\n",
       "PAX         0.0                                   [PAX]         NaN     0.0\n",
       "SHPING      0.0                                [SHPING]         NaN     NaN"
      ]
     },
     "execution_count": 18,
     "metadata": {},
     "output_type": "execute_result"
    }
   ],
   "source": [
    "# Missing market caps\n",
    "df[df[\"market_cap\"].isnull()]"
   ]
  },
  {
   "cell_type": "code",
   "execution_count": 19,
   "id": "122b09fb-ea9a-4029-9bd7-2db0a9a59179",
   "metadata": {},
   "outputs": [],
   "source": [
    "df = df[~df[\"market_cap\"].isnull()]"
   ]
  },
  {
   "cell_type": "code",
   "execution_count": 20,
   "id": "a6a18a34-89b2-4db0-b572-9fb89233858b",
   "metadata": {},
   "outputs": [
    {
     "data": {
      "text/html": [
       "<div>\n",
       "<style scoped>\n",
       "    .dataframe tbody tr th:only-of-type {\n",
       "        vertical-align: middle;\n",
       "    }\n",
       "\n",
       "    .dataframe tbody tr th {\n",
       "        vertical-align: top;\n",
       "    }\n",
       "\n",
       "    .dataframe thead th {\n",
       "        text-align: right;\n",
       "    }\n",
       "</style>\n",
       "<table border=\"1\" class=\"dataframe\">\n",
       "  <thead>\n",
       "    <tr style=\"text-align: right;\">\n",
       "      <th></th>\n",
       "      <th>market_cap</th>\n",
       "      <th>weight</th>\n",
       "    </tr>\n",
       "    <tr>\n",
       "      <th>symbol</th>\n",
       "      <th></th>\n",
       "      <th></th>\n",
       "    </tr>\n",
       "  </thead>\n",
       "  <tbody>\n",
       "    <tr>\n",
       "      <th>SUPER</th>\n",
       "      <td>39379345.00</td>\n",
       "      <td>NaN</td>\n",
       "    </tr>\n",
       "    <tr>\n",
       "      <th>AGLD</th>\n",
       "      <td>29216309.00</td>\n",
       "      <td>NaN</td>\n",
       "    </tr>\n",
       "    <tr>\n",
       "      <th>UNFI</th>\n",
       "      <td>29097202.00</td>\n",
       "      <td>NaN</td>\n",
       "    </tr>\n",
       "    <tr>\n",
       "      <th>BLZ</th>\n",
       "      <td>28938365.00</td>\n",
       "      <td>NaN</td>\n",
       "    </tr>\n",
       "    <tr>\n",
       "      <th>DIA</th>\n",
       "      <td>28101332.00</td>\n",
       "      <td>NaN</td>\n",
       "    </tr>\n",
       "    <tr>\n",
       "      <th>ALCX</th>\n",
       "      <td>26655829.00</td>\n",
       "      <td>NaN</td>\n",
       "    </tr>\n",
       "    <tr>\n",
       "      <th>ERN</th>\n",
       "      <td>21273697.00</td>\n",
       "      <td>NaN</td>\n",
       "    </tr>\n",
       "    <tr>\n",
       "      <th>GODS</th>\n",
       "      <td>17319484.00</td>\n",
       "      <td>NaN</td>\n",
       "    </tr>\n",
       "    <tr>\n",
       "      <th>QSP</th>\n",
       "      <td>16147063.00</td>\n",
       "      <td>NaN</td>\n",
       "    </tr>\n",
       "    <tr>\n",
       "      <th>CTX</th>\n",
       "      <td>15279544.00</td>\n",
       "      <td>NaN</td>\n",
       "    </tr>\n",
       "    <tr>\n",
       "      <th>MDT</th>\n",
       "      <td>15179771.00</td>\n",
       "      <td>NaN</td>\n",
       "    </tr>\n",
       "    <tr>\n",
       "      <th>INDEX</th>\n",
       "      <td>14821200.00</td>\n",
       "      <td>NaN</td>\n",
       "    </tr>\n",
       "    <tr>\n",
       "      <th>PLU</th>\n",
       "      <td>14687449.00</td>\n",
       "      <td>NaN</td>\n",
       "    </tr>\n",
       "    <tr>\n",
       "      <th>AVT</th>\n",
       "      <td>14086723.00</td>\n",
       "      <td>NaN</td>\n",
       "    </tr>\n",
       "    <tr>\n",
       "      <th>CRPT</th>\n",
       "      <td>12358928.00</td>\n",
       "      <td>NaN</td>\n",
       "    </tr>\n",
       "    <tr>\n",
       "      <th>GFI</th>\n",
       "      <td>10922686.00</td>\n",
       "      <td>NaN</td>\n",
       "    </tr>\n",
       "    <tr>\n",
       "      <th>INV</th>\n",
       "      <td>10463350.00</td>\n",
       "      <td>NaN</td>\n",
       "    </tr>\n",
       "    <tr>\n",
       "      <th>ORCA</th>\n",
       "      <td>8537890.00</td>\n",
       "      <td>NaN</td>\n",
       "    </tr>\n",
       "    <tr>\n",
       "      <th>WAMPL</th>\n",
       "      <td>3108060.00</td>\n",
       "      <td>NaN</td>\n",
       "    </tr>\n",
       "    <tr>\n",
       "      <th>SUPER</th>\n",
       "      <td>11066.51</td>\n",
       "      <td>NaN</td>\n",
       "    </tr>\n",
       "  </tbody>\n",
       "</table>\n",
       "</div>"
      ],
      "text/plain": [
       "         market_cap  weight\n",
       "symbol                     \n",
       "SUPER   39379345.00     NaN\n",
       "AGLD    29216309.00     NaN\n",
       "UNFI    29097202.00     NaN\n",
       "BLZ     28938365.00     NaN\n",
       "DIA     28101332.00     NaN\n",
       "ALCX    26655829.00     NaN\n",
       "ERN     21273697.00     NaN\n",
       "GODS    17319484.00     NaN\n",
       "QSP     16147063.00     NaN\n",
       "CTX     15279544.00     NaN\n",
       "MDT     15179771.00     NaN\n",
       "INDEX   14821200.00     NaN\n",
       "PLU     14687449.00     NaN\n",
       "AVT     14086723.00     NaN\n",
       "CRPT    12358928.00     NaN\n",
       "GFI     10922686.00     NaN\n",
       "INV     10463350.00     NaN\n",
       "ORCA     8537890.00     NaN\n",
       "WAMPL    3108060.00     NaN\n",
       "SUPER      11066.51     NaN"
      ]
     },
     "execution_count": 20,
     "metadata": {},
     "output_type": "execute_result"
    }
   ],
   "source": [
    "# To be weighted\n",
    "df[df[\"weight\"].isnull()].sort_values(\"market_cap\", ascending=False)[[\"market_cap\", \"weight\"]]"
   ]
  },
  {
   "cell_type": "code",
   "execution_count": 21,
   "id": "b2ba4f18-490c-437e-908e-2101f540c214",
   "metadata": {},
   "outputs": [
    {
     "data": {
      "text/plain": [
       "<AxesSubplot:ylabel='Frequency'>"
      ]
     },
     "execution_count": 21,
     "metadata": {},
     "output_type": "execute_result"
    },
    {
     "data": {
      "application/vnd.jupyter.widget-view+json": {
       "model_id": "1b356ecc8a2d4634b0fb74e68f7ebfb4",
       "version_major": 2,
       "version_minor": 0
      },
      "image/png": "[encoded data removed]",
      "text/html": [
       "\n",
       "            <div style=\"display: inline-block;\">\n",
       "                <div class=\"jupyter-widgets widget-label\" style=\"text-align: center;\">\n",
       "                    Figure\n",
       "                </div>\n",
       "                <img src='data:image/png;base64,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' width=640.0/>\n",
       "            </div>\n",
       "        "
      ],
      "text/plain": [
       "Canvas(toolbar=Toolbar(toolitems=[('Home', 'Reset original view', 'home', 'home'), ('Back', 'Back to previous …"
      ]
     },
     "metadata": {},
     "output_type": "display_data"
    }
   ],
   "source": [
    "df = df[~df[\"weight\"].isnull()]\n",
    "df = df[~(df[\"weight\"] == 0)]\n",
    "df[\"custom_weighted_mc\"] = df[\"market_cap\"] * df[\"weight\"]\n",
    "df[\"custom_allocation_target\"] = df[\"custom_weighted_mc\"] / df[\"custom_weighted_mc\"].sum()\n",
    "df[\"log_custom_weighted_mc\"] = np.log(df[\"custom_weighted_mc\"])\n",
    "df[\"log_custom_weighted_allocation_target\"] = df[\"log_custom_weighted_mc\"] / df[\"log_custom_weighted_mc\"].sum()\n",
    "log_weight = 0.3\n",
    "df[\"fully_weighted_allocation_target\"] = (df[\"log_custom_weighted_allocation_target\"] * log_weight) + (df[\"custom_allocation_target\"] * (1-log_weight))\n",
    "%matplotlib widget\n",
    "df[\"fully_weighted_allocation_target\"].plot.hist(bins=100)"
   ]
  },
  {
   "cell_type": "code",
   "execution_count": 30,
   "id": "13727ce3-998c-4d43-b905-e73957e72794",
   "metadata": {},
   "outputs": [],
   "source": [
    "df[\"current_allocation\"] = df[\"balance\"] / df[\"balance\"].sum()\n",
    "df[\"target_allocation\"] = df[\"fully_weighted_allocation_target\"] * credentials.target_portfolio_size\n",
    "df[\"delta\"] = df[\"target_allocation\"] - df[\"balance\"]\n",
    "# df[[\"balance\", \"fully_weighted_allocation_target\", \"target_allocation\", \"delta\"]].sort_values(\"delta\", ascending=False)"
   ]
  },
  {
   "cell_type": "code",
   "execution_count": 23,
   "id": "98322dd3-9540-40e1-b18d-621ba73e64d8",
   "metadata": {},
   "outputs": [],
   "source": [
    "\n",
    "def get_latest_tx(row):\n",
    "    transactions = []\n",
    "    for id in row.wallets:\n",
    "        tx_request = coinbase_api(f\"/v2/accounts/{id}/transactions\")\n",
    "        transactions.extend(tx_request.json()[\"data\"])\n",
    "        # display(tx_request.content)\n",
    "\n",
    "    if not transactions:\n",
    "        return row\n",
    "\n",
    "    # ridiculous coinbase doubled data problem\n",
    "    transactions = pd.DataFrame.from_dict(transactions)\n",
    "    # doubled_content = tx_request.text\n",
    "    # import json\n",
    "    # transactions = pd.DataFrame.from_dict(json.loads(doubled_content[:len(doubled_content)//2])[\"data\"])\n",
    "\n",
    "    transactions[\"timestamp\"] = pd.to_datetime(transactions[\"updated_at\"])\n",
    "    transactions[\"symbol\"] = row.name\n",
    "    x = transactions.groupby(by=[\"type\", \"symbol\"])[[\"timestamp\"]].agg(\"max\")\n",
    "    x = x.reset_index(level=\"type\")\n",
    "    x = x.pivot(index=None, columns=\"type\", values=\"timestamp\")\n",
    "    row[\"last_bought\"] = x[\"buy\"][0] if \"buy\" in x.columns else None\n",
    "    row[\"last_sold\"] = x[\"sell\"][0] if \"sell\" in x.columns else None # TODO pandas idiomatic way to do all this\n",
    "    return row\n"
   ]
  },
  {
   "cell_type": "code",
   "execution_count": 24,
   "id": "0b5f1823-33e3-47f2-b6e6-2ffdd1c8194b",
   "metadata": {},
   "outputs": [],
   "source": [
    "df = df.apply(get_latest_tx, axis='columns')"
   ]
  },
  {
   "cell_type": "code",
   "execution_count": 25,
   "id": "cb9f9a2a-8788-454e-baaf-21fcc621149a",
   "metadata": {},
   "outputs": [],
   "source": [
    "# df[[\"balance\", \"fully_weighted_allocation_target\", \"target_allocation\", \"delta\"]].sort_values(\"delta\", ascending=False)"
   ]
  },
  {
   "cell_type": "code",
   "execution_count": 26,
   "id": "29475c80-de3c-40c3-9776-0f801fce5520",
   "metadata": {},
   "outputs": [],
   "source": [
    "df[\"last_sold\"] = df[\"last_sold\"].dt.tz_localize(None)\n",
    "df[\"last_bought\"] = df[\"last_bought\"].dt.tz_localize(None)\n",
    "beginning_of_window = np.datetime64(pd.Timestamp(\"now\") - pd.Timedelta(days=31))"
   ]
  },
  {
   "cell_type": "code",
   "execution_count": 27,
   "id": "d024a7b9-7efd-4afd-b7e4-7bd4d2a076c9",
   "metadata": {},
   "outputs": [],
   "source": [
    "df[\"tlh_safe\"] = (\n",
    "    (df[\"delta\"] < 0) & (df[\"last_bought\"] < beginning_of_window)\n",
    ") | (\n",
    "    (df[\"delta\"] > 0) & (df[\"last_sold\"] < beginning_of_window)\n",
    ")\n",
    "tlh_safe = df[df[\"tlh_safe\"]]"
   ]
  },
  {
   "cell_type": "code",
   "execution_count": 29,
   "id": "e6622633-fe0c-478b-a634-0612cd7db8e5",
   "metadata": {},
   "outputs": [],
   "source": [
    "# tlh_safe[[\"balance\", \"fully_weighted_allocation_target\", \"target_allocation\", \"delta\"]].sort_values(\"delta\", ascending=False)"
   ]
  }
 ],
 "metadata": {
  "kernelspec": {
   "display_name": "Python 3 (ipykernel)",
   "language": "python",
   "name": "python3"
  },
  "language_info": {
   "codemirror_mode": {
    "name": "ipython",
    "version": 3
   },
   "file_extension": ".py",
   "mimetype": "text/x-python",
   "name": "python",
   "nbconvert_exporter": "python",
   "pygments_lexer": "ipython3",
   "version": "3.9.4"
  }
 },
 "nbformat": 4,
 "nbformat_minor": 5
}
