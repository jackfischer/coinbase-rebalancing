{
 "cells": [
  {
   "cell_type": "code",
   "execution_count": 1,
   "id": "32455831-8901-404d-a365-e8d74592d430",
   "metadata": {},
   "outputs": [],
   "source": [
    "import requests\n",
    "import pandas as pd\n",
    "import hmac\n",
    "import hashlib\n",
    "from datetime import datetime\n",
    "import numpy as np"
   ]
  },
  {
   "cell_type": "code",
   "execution_count": 2,
   "id": "7ff541a2-80f8-48fe-a8f9-0945fd0eb8c7",
   "metadata": {},
   "outputs": [],
   "source": [
    "import credentials\n",
    "secret_bytes = bytes(credentials.secret , 'latin-1')"
   ]
  },
  {
   "cell_type": "code",
   "execution_count": 3,
   "id": "9a0272a1-099d-4510-8269-2c25d2fa5835",
   "metadata": {},
   "outputs": [],
   "source": [
    "# rates = requests.get(\"https://api.coinbase.com/v2/exchange-rates\").json()[\"data\"][\"rates\"]\n"
   ]
  },
  {
   "cell_type": "code",
   "execution_count": 4,
   "id": "06b132bf-da90-46db-84e3-29afbc25d42b",
   "metadata": {},
   "outputs": [],
   "source": [
    "def generate_access_sign(timestamp, method, requestPath, body):\n",
    "    message = timestamp + method + requestPath + body\n",
    "    message_bytes = bytes(message , 'latin-1')\n",
    "    signature = hmac.new(secret_bytes, message_bytes, digestmod = hashlib.sha256).hexdigest()\n",
    "    return signature"
   ]
  },
  {
   "cell_type": "code",
   "execution_count": 5,
   "id": "be3853fe-687e-4406-a748-62b81a632c6e",
   "metadata": {},
   "outputs": [],
   "source": [
    "BASE = \"https://api.coinbase.com\"\n",
    "PATH = \"/v2/accounts?limit=300\"\n",
    "timestamp = str(round(datetime.now().timestamp()))\n",
    "signature = generate_access_sign(timestamp, \"GET\", PATH, \"\")\n",
    "HEADERS = {\n",
    "    \"CB-ACCESS-KEY\": credentials.key,\n",
    "    \"CB-ACCESS-SIGN\": signature,\n",
    "    \"CB-ACCESS-TIMESTAMP\": timestamp\n",
    "}\n",
    "wallets_request = requests.get(BASE+PATH, headers=HEADERS)"
   ]
  },
  {
   "cell_type": "code",
   "execution_count": 6,
   "id": "151ff1f8-7ff7-4a5a-bbaa-cebb0ed98a8d",
   "metadata": {},
   "outputs": [],
   "source": [
    "assets = pd.DataFrame.from_dict(wallets_request.json()[\"data\"])\n",
    "assets[\"balance\"] = assets[\"native_balance\"].apply(lambda balance: float(balance[\"amount\"]))\n",
    "assets = assets[[\"currency\", \"balance\"]].set_index(\"currency\")\n",
    "assets.rename_axis(\"symbol\", inplace=True)"
   ]
  },
  {
   "cell_type": "code",
   "execution_count": 7,
   "id": "54a052b6-f5d7-4a6a-8c4f-e418ce7c2172",
   "metadata": {},
   "outputs": [],
   "source": [
    "mc_dicts = []\n",
    "for page in range(1, 20):\n",
    "    results = requests.get(f\"https://api.coingecko.com/api/v3/coins/markets?vs_currency=usd&order=market_cap_desc&per_page=250&page={page}&sparkline=false\").json()\n",
    "    mc_dicts.extend(results)"
   ]
  },
  {
   "cell_type": "code",
   "execution_count": 8,
   "id": "d6e89063-fed1-42a6-901c-687a75608bd0",
   "metadata": {},
   "outputs": [],
   "source": [
    "mc = pd.DataFrame.from_dict(mc_dicts)\n",
    "mc[\"symbol\"] = mc[\"symbol\"].str.upper()\n",
    "mc.set_index(\"symbol\", inplace=True)\n",
    "mc = mc[[\"market_cap\"]]\n",
    "mc = mc[~(mc[\"market_cap\"] == 0)]\n",
    "# mc[mc.index.duplicated()].sort_index()\n"
   ]
  },
  {
   "cell_type": "code",
   "execution_count": 9,
   "id": "b1a97228-290a-4df7-aecd-51494eeeb53c",
   "metadata": {},
   "outputs": [],
   "source": [
    "df = assets.join(mc)"
   ]
  },
  {
   "cell_type": "code",
   "execution_count": 10,
   "id": "b2eaa888-7a7f-477b-ab6d-721cb5239536",
   "metadata": {},
   "outputs": [],
   "source": [
    "weights = pd.read_csv('active_weights.csv', index_col=\"symbol\")\n",
    "weights[\"weight\"] = pd.to_numeric(weights[\"weight\"])\n",
    "df = df.join(weights)"
   ]
  },
  {
   "cell_type": "code",
   "execution_count": 11,
   "id": "122b09fb-ea9a-4029-9bd7-2db0a9a59179",
   "metadata": {},
   "outputs": [],
   "source": [
    "df = df[~df[\"market_cap\"].isnull()]"
   ]
  },
  {
   "cell_type": "code",
   "execution_count": 12,
   "id": "a6a18a34-89b2-4db0-b572-9fb89233858b",
   "metadata": {},
   "outputs": [
    {
     "data": {
      "text/html": [
       "<div>\n",
       "<style scoped>\n",
       "    .dataframe tbody tr th:only-of-type {\n",
       "        vertical-align: middle;\n",
       "    }\n",
       "\n",
       "    .dataframe tbody tr th {\n",
       "        vertical-align: top;\n",
       "    }\n",
       "\n",
       "    .dataframe thead th {\n",
       "        text-align: right;\n",
       "    }\n",
       "</style>\n",
       "<table border=\"1\" class=\"dataframe\">\n",
       "  <thead>\n",
       "    <tr style=\"text-align: right;\">\n",
       "      <th></th>\n",
       "      <th>market_cap</th>\n",
       "      <th>weight</th>\n",
       "    </tr>\n",
       "    <tr>\n",
       "      <th>symbol</th>\n",
       "      <th></th>\n",
       "      <th></th>\n",
       "    </tr>\n",
       "  </thead>\n",
       "  <tbody>\n",
       "    <tr>\n",
       "      <th>USDC</th>\n",
       "      <td>5.132282e+10</td>\n",
       "      <td>NaN</td>\n",
       "    </tr>\n",
       "    <tr>\n",
       "      <th>XRP</th>\n",
       "      <td>2.052238e+10</td>\n",
       "      <td>NaN</td>\n",
       "    </tr>\n",
       "    <tr>\n",
       "      <th>WBTC</th>\n",
       "      <td>8.471953e+09</td>\n",
       "      <td>NaN</td>\n",
       "    </tr>\n",
       "    <tr>\n",
       "      <th>DAI</th>\n",
       "      <td>5.987038e+09</td>\n",
       "      <td>NaN</td>\n",
       "    </tr>\n",
       "    <tr>\n",
       "      <th>MATIC</th>\n",
       "      <td>4.590262e+09</td>\n",
       "      <td>NaN</td>\n",
       "    </tr>\n",
       "    <tr>\n",
       "      <th>ETC</th>\n",
       "      <td>2.832808e+09</td>\n",
       "      <td>NaN</td>\n",
       "    </tr>\n",
       "    <tr>\n",
       "      <th>MANA</th>\n",
       "      <td>1.793036e+09</td>\n",
       "      <td>NaN</td>\n",
       "    </tr>\n",
       "    <tr>\n",
       "      <th>AXS</th>\n",
       "      <td>1.642653e+09</td>\n",
       "      <td>NaN</td>\n",
       "    </tr>\n",
       "    <tr>\n",
       "      <th>PLA</th>\n",
       "      <td>2.164559e+08</td>\n",
       "      <td>NaN</td>\n",
       "    </tr>\n",
       "    <tr>\n",
       "      <th>KNC</th>\n",
       "      <td>1.621360e+08</td>\n",
       "      <td>NaN</td>\n",
       "    </tr>\n",
       "    <tr>\n",
       "      <th>FOX</th>\n",
       "      <td>6.474134e+07</td>\n",
       "      <td>NaN</td>\n",
       "    </tr>\n",
       "    <tr>\n",
       "      <th>MIR</th>\n",
       "      <td>5.767779e+07</td>\n",
       "      <td>NaN</td>\n",
       "    </tr>\n",
       "    <tr>\n",
       "      <th>MUSD</th>\n",
       "      <td>4.440540e+07</td>\n",
       "      <td>NaN</td>\n",
       "    </tr>\n",
       "    <tr>\n",
       "      <th>GYEN</th>\n",
       "      <td>4.174078e+07</td>\n",
       "      <td>NaN</td>\n",
       "    </tr>\n",
       "    <tr>\n",
       "      <th>AUCTION</th>\n",
       "      <td>3.959693e+07</td>\n",
       "      <td>NaN</td>\n",
       "    </tr>\n",
       "    <tr>\n",
       "      <th>LCX</th>\n",
       "      <td>3.417662e+07</td>\n",
       "      <td>NaN</td>\n",
       "    </tr>\n",
       "    <tr>\n",
       "      <th>FARM</th>\n",
       "      <td>3.044897e+07</td>\n",
       "      <td>NaN</td>\n",
       "    </tr>\n",
       "    <tr>\n",
       "      <th>RARI</th>\n",
       "      <td>2.276517e+07</td>\n",
       "      <td>NaN</td>\n",
       "    </tr>\n",
       "    <tr>\n",
       "      <th>BOND</th>\n",
       "      <td>2.174668e+07</td>\n",
       "      <td>NaN</td>\n",
       "    </tr>\n",
       "    <tr>\n",
       "      <th>KRL</th>\n",
       "      <td>1.865692e+07</td>\n",
       "      <td>NaN</td>\n",
       "    </tr>\n",
       "    <tr>\n",
       "      <th>SUKU</th>\n",
       "      <td>1.095867e+07</td>\n",
       "      <td>NaN</td>\n",
       "    </tr>\n",
       "    <tr>\n",
       "      <th>ASM</th>\n",
       "      <td>3.581170e+05</td>\n",
       "      <td>NaN</td>\n",
       "    </tr>\n",
       "    <tr>\n",
       "      <th>PLA</th>\n",
       "      <td>3.047610e+05</td>\n",
       "      <td>NaN</td>\n",
       "    </tr>\n",
       "    <tr>\n",
       "      <th>GNT</th>\n",
       "      <td>2.276000e+04</td>\n",
       "      <td>NaN</td>\n",
       "    </tr>\n",
       "  </tbody>\n",
       "</table>\n",
       "</div>"
      ],
      "text/plain": [
       "           market_cap  weight\n",
       "symbol                       \n",
       "USDC     5.132282e+10     NaN\n",
       "XRP      2.052238e+10     NaN\n",
       "WBTC     8.471953e+09     NaN\n",
       "DAI      5.987038e+09     NaN\n",
       "MATIC    4.590262e+09     NaN\n",
       "ETC      2.832808e+09     NaN\n",
       "MANA     1.793036e+09     NaN\n",
       "AXS      1.642653e+09     NaN\n",
       "PLA      2.164559e+08     NaN\n",
       "KNC      1.621360e+08     NaN\n",
       "FOX      6.474134e+07     NaN\n",
       "MIR      5.767779e+07     NaN\n",
       "MUSD     4.440540e+07     NaN\n",
       "GYEN     4.174078e+07     NaN\n",
       "AUCTION  3.959693e+07     NaN\n",
       "LCX      3.417662e+07     NaN\n",
       "FARM     3.044897e+07     NaN\n",
       "RARI     2.276517e+07     NaN\n",
       "BOND     2.174668e+07     NaN\n",
       "KRL      1.865692e+07     NaN\n",
       "SUKU     1.095867e+07     NaN\n",
       "ASM      3.581170e+05     NaN\n",
       "PLA      3.047610e+05     NaN\n",
       "GNT      2.276000e+04     NaN"
      ]
     },
     "execution_count": 12,
     "metadata": {},
     "output_type": "execute_result"
    }
   ],
   "source": [
    "# To be weighted\n",
    "df[df[\"weight\"].isnull()].sort_values(\"market_cap\", ascending=False)[[\"market_cap\", \"weight\"]]"
   ]
  },
  {
   "cell_type": "code",
   "execution_count": 34,
   "id": "b2ba4f18-490c-437e-908e-2101f540c214",
   "metadata": {},
   "outputs": [
    {
     "data": {
      "text/plain": [
       "<AxesSubplot:ylabel='Frequency'>"
      ]
     },
     "execution_count": 34,
     "metadata": {},
     "output_type": "execute_result"
    },
    {
     "data": {
      "application/vnd.jupyter.widget-view+json": {
       "model_id": "7ef5b0d5db1341938ffd4ce3fece056f",
       "version_major": 2,
       "version_minor": 0
      },
      "image/png": "[encoded data removed]",
      "text/html": [
       "\n",
       "            <div style=\"display: inline-block;\">\n",
       "                <div class=\"jupyter-widgets widget-label\" style=\"text-align: center;\">\n",
       "                    Figure\n",
       "                </div>\n",
       "                <img src='data:image/png;base64,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' width=640.0/>\n",
       "            </div>\n",
       "        "
      ],
      "text/plain": [
       "Canvas(toolbar=Toolbar(toolitems=[('Home', 'Reset original view', 'home', 'home'), ('Back', 'Back to previous …"
      ]
     },
     "metadata": {},
     "output_type": "display_data"
    }
   ],
   "source": [
    "df = df[~df[\"weight\"].isnull()]\n",
    "df[\"custom_weighted_mc\"] = df[\"market_cap\"] * df[\"weight\"]\n",
    "df[\"custom_allocation_target\"] = df[\"custom_weighted_mc\"] / df[\"custom_weighted_mc\"].sum()\n",
    "df[\"log_custom_weighted_mc\"] = np.log(df[\"custom_weighted_mc\"])\n",
    "df[\"log_custom_weighted_allocation_target\"] = df[\"log_custom_weighted_mc\"] / df[\"log_custom_weighted_mc\"].sum()\n",
    "log_weight = 0.3\n",
    "df[\"fully_weighted_allocation_target\"] = (df[\"log_custom_weighted_allocation_target\"] * log_weight) + (df[\"custom_allocation_target\"] * (1-log_weight))\n",
    "%matplotlib widget\n",
    "df[\"fully_weighted_allocation_target\"].plot.hist(bins=100)"
   ]
  },
  {
   "cell_type": "code",
   "execution_count": 46,
   "id": "1a022f25-85d1-4dd5-aa50-e0c656ba2c3b",
   "metadata": {},
   "outputs": [],
   "source": [
    "TOTAL_PORTFOLIO = 1_000"
   ]
  },
  {
   "cell_type": "code",
   "execution_count": 47,
   "id": "13727ce3-998c-4d43-b905-e73957e72794",
   "metadata": {},
   "outputs": [],
   "source": [
    "df[\"target_allocation\"] = df[\"target_allocation_percentage\"] * TOTAL_PORTFOLIO\n",
    "df[\"delta\"] = df[\"target_allocation\"] - df[\"balance\"]\n",
    "# df[[\"balance\", \"target_allocation\", \"delta\"]].round().sort_values(\"delta\", ascending=False)"
   ]
  }
 ],
 "metadata": {
  "kernelspec": {
   "display_name": "Python 3 (ipykernel)",
   "language": "python",
   "name": "python3"
  },
  "language_info": {
   "codemirror_mode": {
    "name": "ipython",
    "version": 3
   },
   "file_extension": ".py",
   "mimetype": "text/x-python",
   "name": "python",
   "nbconvert_exporter": "python",
   "pygments_lexer": "ipython3",
   "version": "3.9.4"
  }
 },
 "nbformat": 4,
 "nbformat_minor": 5
}
