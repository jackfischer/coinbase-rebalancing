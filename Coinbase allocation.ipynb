{
 "cells": [
  {
   "cell_type": "code",
   "execution_count": 246,
   "id": "32455831-8901-404d-a365-e8d74592d430",
   "metadata": {},
   "outputs": [],
   "source": [
    "import requests\n",
    "import pandas as pd\n",
    "import hmac\n",
    "import hashlib\n",
    "from datetime import datetime\n",
    "import numpy as np"
   ]
  },
  {
   "cell_type": "code",
   "execution_count": 247,
   "id": "7ff541a2-80f8-48fe-a8f9-0945fd0eb8c7",
   "metadata": {},
   "outputs": [],
   "source": [
    "import credentials\n",
    "secret_bytes = bytes(credentials.secret , 'latin-1')"
   ]
  },
  {
   "cell_type": "code",
   "execution_count": 249,
   "id": "06b132bf-da90-46db-84e3-29afbc25d42b",
   "metadata": {},
   "outputs": [],
   "source": [
    "def generate_access_sign(timestamp, method, requestPath, body):\n",
    "    message = timestamp + method + requestPath + body\n",
    "    message_bytes = bytes(message , 'latin-1')\n",
    "    signature = hmac.new(secret_bytes, message_bytes, digestmod = hashlib.sha256).hexdigest()\n",
    "    return signature"
   ]
  },
  {
   "cell_type": "code",
   "execution_count": 250,
   "id": "be3853fe-687e-4406-a748-62b81a632c6e",
   "metadata": {},
   "outputs": [],
   "source": [
    "def coinbase_api(path):\n",
    "    BASE = \"https://api.coinbase.com\"\n",
    "    timestamp = str(round(datetime.now().timestamp()))\n",
    "    signature = generate_access_sign(timestamp, \"GET\", path, \"\")\n",
    "    HEADERS = {\n",
    "        \"CB-ACCESS-KEY\": credentials.key,\n",
    "        \"CB-ACCESS-SIGN\": signature,\n",
    "        \"CB-ACCESS-TIMESTAMP\": timestamp\n",
    "    }\n",
    "    return requests.get(BASE+path, headers=HEADERS)\n",
    "\n",
    "wallets_request = coinbase_api(\"/v2/accounts?limit=300\")"
   ]
  },
  {
   "cell_type": "code",
   "execution_count": 251,
   "id": "151ff1f8-7ff7-4a5a-bbaa-cebb0ed98a8d",
   "metadata": {},
   "outputs": [],
   "source": [
    "assets = pd.DataFrame.from_dict(wallets_request.json()[\"data\"])\n",
    "assets[\"balance\"] = assets[\"native_balance\"].apply(lambda balance: float(balance[\"amount\"]))\n",
    "assets = assets[[\"currency\", \"balance\", \"id\"]].set_index(\"currency\")\n",
    "assets.rename_axis(\"symbol\", inplace=True)"
   ]
  },
  {
   "cell_type": "code",
   "execution_count": 252,
   "id": "9c57a595-2a20-4b98-a266-e2e8ba7da4d7",
   "metadata": {},
   "outputs": [],
   "source": [
    "# Tidy up coinbase data\n",
    "assets.rename(index={'CGLD':'CELO'}, inplace=True)\n",
    "assets.drop(index=\"USD\", inplace=True)"
   ]
  },
  {
   "cell_type": "code",
   "execution_count": 253,
   "id": "54a052b6-f5d7-4a6a-8c4f-e418ce7c2172",
   "metadata": {},
   "outputs": [],
   "source": [
    "mc_dicts = []\n",
    "for page in range(1, 20):\n",
    "    results = requests.get(f\"https://api.coingecko.com/api/v3/coins/markets?vs_currency=usd&order=market_cap_desc&per_page=250&page={page}&sparkline=false\").json()\n",
    "    mc_dicts.extend(results)"
   ]
  },
  {
   "cell_type": "code",
   "execution_count": 254,
   "id": "d6e89063-fed1-42a6-901c-687a75608bd0",
   "metadata": {},
   "outputs": [],
   "source": [
    "mc = pd.DataFrame.from_dict(mc_dicts)\n",
    "mc[\"symbol\"] = mc[\"symbol\"].str.upper()\n",
    "mc.set_index(\"symbol\", inplace=True)\n",
    "mc = mc[[\"market_cap\"]]\n",
    "mc = mc[~(mc[\"market_cap\"] == 0)]\n",
    "# mc[mc.index.duplicated()].sort_index()\n"
   ]
  },
  {
   "cell_type": "code",
   "execution_count": 255,
   "id": "b1a97228-290a-4df7-aecd-51494eeeb53c",
   "metadata": {},
   "outputs": [],
   "source": [
    "df = assets.join(mc)"
   ]
  },
  {
   "cell_type": "code",
   "execution_count": 256,
   "id": "b2eaa888-7a7f-477b-ab6d-721cb5239536",
   "metadata": {},
   "outputs": [],
   "source": [
    "weights = pd.read_csv('active_weights.csv', index_col=\"symbol\")\n",
    "weights[\"weight\"] = pd.to_numeric(weights[\"weight\"])\n",
    "df = df.join(weights)"
   ]
  },
  {
   "cell_type": "code",
   "execution_count": 257,
   "id": "1915e3cf-4510-404a-b28a-1cfabba77dae",
   "metadata": {},
   "outputs": [
    {
     "data": {
      "text/html": [
       "<div>\n",
       "<style scoped>\n",
       "    .dataframe tbody tr th:only-of-type {\n",
       "        vertical-align: middle;\n",
       "    }\n",
       "\n",
       "    .dataframe tbody tr th {\n",
       "        vertical-align: top;\n",
       "    }\n",
       "\n",
       "    .dataframe thead th {\n",
       "        text-align: right;\n",
       "    }\n",
       "</style>\n",
       "<table border=\"1\" class=\"dataframe\">\n",
       "  <thead>\n",
       "    <tr style=\"text-align: right;\">\n",
       "      <th></th>\n",
       "      <th>balance</th>\n",
       "      <th>id</th>\n",
       "      <th>market_cap</th>\n",
       "      <th>weight</th>\n",
       "    </tr>\n",
       "    <tr>\n",
       "      <th>symbol</th>\n",
       "      <th></th>\n",
       "      <th></th>\n",
       "      <th></th>\n",
       "      <th></th>\n",
       "    </tr>\n",
       "  </thead>\n",
       "  <tbody>\n",
       "    <tr>\n",
       "      <th>LOOM</th>\n",
       "      <td>0.0</td>\n",
       "      <td>d1e2d5dd-c742-55e5-a60b-5d20b8658568</td>\n",
       "      <td>NaN</td>\n",
       "      <td>NaN</td>\n",
       "    </tr>\n",
       "    <tr>\n",
       "      <th>PAX</th>\n",
       "      <td>0.0</td>\n",
       "      <td>PAX</td>\n",
       "      <td>NaN</td>\n",
       "      <td>0.0</td>\n",
       "    </tr>\n",
       "  </tbody>\n",
       "</table>\n",
       "</div>"
      ],
      "text/plain": [
       "        balance                                    id  market_cap  weight\n",
       "symbol                                                                   \n",
       "LOOM        0.0  d1e2d5dd-c742-55e5-a60b-5d20b8658568         NaN     NaN\n",
       "PAX         0.0                                   PAX         NaN     0.0"
      ]
     },
     "execution_count": 257,
     "metadata": {},
     "output_type": "execute_result"
    }
   ],
   "source": [
    "# Missing market caps\n",
    "df[df[\"market_cap\"].isnull()]"
   ]
  },
  {
   "cell_type": "code",
   "execution_count": 258,
   "id": "122b09fb-ea9a-4029-9bd7-2db0a9a59179",
   "metadata": {},
   "outputs": [],
   "source": [
    "df = df[~df[\"market_cap\"].isnull()]"
   ]
  },
  {
   "cell_type": "code",
   "execution_count": 259,
   "id": "a6a18a34-89b2-4db0-b572-9fb89233858b",
   "metadata": {},
   "outputs": [
    {
     "data": {
      "text/html": [
       "<div>\n",
       "<style scoped>\n",
       "    .dataframe tbody tr th:only-of-type {\n",
       "        vertical-align: middle;\n",
       "    }\n",
       "\n",
       "    .dataframe tbody tr th {\n",
       "        vertical-align: top;\n",
       "    }\n",
       "\n",
       "    .dataframe thead th {\n",
       "        text-align: right;\n",
       "    }\n",
       "</style>\n",
       "<table border=\"1\" class=\"dataframe\">\n",
       "  <thead>\n",
       "    <tr style=\"text-align: right;\">\n",
       "      <th></th>\n",
       "      <th>market_cap</th>\n",
       "      <th>weight</th>\n",
       "    </tr>\n",
       "    <tr>\n",
       "      <th>symbol</th>\n",
       "      <th></th>\n",
       "      <th></th>\n",
       "    </tr>\n",
       "  </thead>\n",
       "  <tbody>\n",
       "  </tbody>\n",
       "</table>\n",
       "</div>"
      ],
      "text/plain": [
       "Empty DataFrame\n",
       "Columns: [market_cap, weight]\n",
       "Index: []"
      ]
     },
     "execution_count": 259,
     "metadata": {},
     "output_type": "execute_result"
    }
   ],
   "source": [
    "# To be weighted\n",
    "df[df[\"weight\"].isnull()].sort_values(\"market_cap\", ascending=False)[[\"market_cap\", \"weight\"]]"
   ]
  },
  {
   "cell_type": "code",
   "execution_count": 260,
   "id": "b2ba4f18-490c-437e-908e-2101f540c214",
   "metadata": {},
   "outputs": [
    {
     "data": {
      "text/plain": [
       "<AxesSubplot:ylabel='Frequency'>"
      ]
     },
     "execution_count": 260,
     "metadata": {},
     "output_type": "execute_result"
    },
    {
     "data": {
      "application/vnd.jupyter.widget-view+json": {
       "model_id": "c82fd7c0016642beb4734a5eca823045",
       "version_major": 2,
       "version_minor": 0
      },
      "image/png": "[encoded data removed]",
      "text/html": [
       "\n",
       "            <div style=\"display: inline-block;\">\n",
       "                <div class=\"jupyter-widgets widget-label\" style=\"text-align: center;\">\n",
       "                    Figure\n",
       "                </div>\n",
       "                <img src='data:image/png;base64,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' width=640.0/>\n",
       "            </div>\n",
       "        "
      ],
      "text/plain": [
       "Canvas(toolbar=Toolbar(toolitems=[('Home', 'Reset original view', 'home', 'home'), ('Back', 'Back to previous …"
      ]
     },
     "metadata": {},
     "output_type": "display_data"
    }
   ],
   "source": [
    "df = df[~df[\"weight\"].isnull()]\n",
    "df = df[~(df[\"weight\"] == 0)]\n",
    "df[\"custom_weighted_mc\"] = df[\"market_cap\"] * df[\"weight\"]\n",
    "df[\"custom_allocation_target\"] = df[\"custom_weighted_mc\"] / df[\"custom_weighted_mc\"].sum()\n",
    "df[\"log_custom_weighted_mc\"] = np.log(df[\"custom_weighted_mc\"])\n",
    "df[\"log_custom_weighted_allocation_target\"] = df[\"log_custom_weighted_mc\"] / df[\"log_custom_weighted_mc\"].sum()\n",
    "log_weight = 0.3\n",
    "df[\"fully_weighted_allocation_target\"] = (df[\"log_custom_weighted_allocation_target\"] * log_weight) + (df[\"custom_allocation_target\"] * (1-log_weight))\n",
    "%matplotlib widget\n",
    "df[\"fully_weighted_allocation_target\"].plot.hist(bins=100)"
   ]
  },
  {
   "cell_type": "code",
   "execution_count": 261,
   "id": "13727ce3-998c-4d43-b905-e73957e72794",
   "metadata": {},
   "outputs": [],
   "source": [
    "df[\"current_allocation\"] = df[\"balance\"] / df[\"balance\"].sum()\n",
    "df[\"target_allocation\"] = df[\"fully_weighted_allocation_target\"] * credentials.target_portfolio_size\n",
    "df[\"delta\"] = df[\"target_allocation\"] - df[\"balance\"]\n",
    "# df[[\"balance\", \"fully_weighted_allocation_target\", \"target_allocation\", \"delta\"]].sort_values(\"delta\", ascending=False)"
   ]
  },
  {
   "cell_type": "code",
   "execution_count": 262,
   "id": "98322dd3-9540-40e1-b18d-621ba73e64d8",
   "metadata": {},
   "outputs": [],
   "source": [
    "\n",
    "def get_latest_tx(row):\n",
    "    tx_request = coinbase_api(f\"/v2/accounts/{row.id}/transactions\")\n",
    "    transactions = pd.DataFrame.from_dict(tx_request.json()[\"data\"])\n",
    "    if transactions.empty:\n",
    "        return row\n",
    "    transactions[\"timestamp\"] = pd.to_datetime(transactions[\"updated_at\"])\n",
    "    transactions[\"symbol\"] = row.name\n",
    "    x = transactions.groupby(by=[\"type\", \"symbol\"])[[\"timestamp\"]].agg(\"max\")\n",
    "    x = x.reset_index(level=\"type\")\n",
    "    x = x.pivot(index=None, columns=\"type\", values=\"timestamp\")\n",
    "    row[\"last_bought\"] = x[\"buy\"][0] if \"buy\" in x.columns else None\n",
    "    row[\"last_sold\"] = x[\"sell\"][0] if \"sell\" in x.columns else None # TODO figure out the non cringe way to accomplish this\n",
    "    return row\n"
   ]
  },
  {
   "cell_type": "code",
   "execution_count": 263,
   "id": "0b5f1823-33e3-47f2-b6e6-2ffdd1c8194b",
   "metadata": {},
   "outputs": [],
   "source": [
    "df = df.apply(get_latest_tx, axis='columns')"
   ]
  },
  {
   "cell_type": "code",
   "execution_count": 264,
   "id": "29475c80-de3c-40c3-9776-0f801fce5520",
   "metadata": {},
   "outputs": [],
   "source": [
    "df[\"last_sold\"] = df[\"last_sold\"].dt.tz_localize(None)\n",
    "df[\"last_bought\"] = df[\"last_bought\"].dt.tz_localize(None)\n",
    "beginning_of_window = np.datetime64(pd.Timestamp(\"now\") - pd.Timedelta(days=31))"
   ]
  },
  {
   "cell_type": "code",
   "execution_count": 266,
   "id": "d024a7b9-7efd-4afd-b7e4-7bd4d2a076c9",
   "metadata": {},
   "outputs": [],
   "source": [
    "df[\"tlh_safe\"] = (\n",
    "    (df[\"delta\"] < 0) & (df[\"last_bought\"] < beginning_of_window)\n",
    ") | (\n",
    "    (df[\"delta\"] > 0) & (df[\"last_sold\"] < beginning_of_window)\n",
    ")\n",
    "df = df[df[\"tlh_safe\"]]\n",
    "# df[[\"balance\", \"fully_weighted_allocation_target\", \"target_allocation\", \"delta\"]].sort_values(\"delta\", ascending=False)"
   ]
  }
 ],
 "metadata": {
  "kernelspec": {
   "display_name": "Python 3 (ipykernel)",
   "language": "python",
   "name": "python3"
  },
  "language_info": {
   "codemirror_mode": {
    "name": "ipython",
    "version": 3
   },
   "file_extension": ".py",
   "mimetype": "text/x-python",
   "name": "python",
   "nbconvert_exporter": "python",
   "pygments_lexer": "ipython3",
   "version": "3.9.4"
  }
 },
 "nbformat": 4,
 "nbformat_minor": 5
}
