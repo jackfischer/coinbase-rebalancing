{
 "cells": [
  {
   "cell_type": "code",
   "execution_count": 28,
   "id": "32455831-8901-404d-a365-e8d74592d430",
   "metadata": {},
   "outputs": [],
   "source": [
    "import requests\n",
    "import pandas as pd\n",
    "import hmac\n",
    "import hashlib\n",
    "from datetime import datetime\n",
    "import numpy as np"
   ]
  },
  {
   "cell_type": "code",
   "execution_count": 29,
   "id": "7ff541a2-80f8-48fe-a8f9-0945fd0eb8c7",
   "metadata": {},
   "outputs": [],
   "source": [
    "import credentials\n",
    "secret_bytes = bytes(credentials.secret , 'latin-1')"
   ]
  },
  {
   "cell_type": "code",
   "execution_count": 30,
   "id": "d3549c4e-dfbe-473d-b28e-c130205be8c4",
   "metadata": {},
   "outputs": [
    {
     "data": {
      "text/html": [
       "<div>\n",
       "<style scoped>\n",
       "    .dataframe tbody tr th:only-of-type {\n",
       "        vertical-align: middle;\n",
       "    }\n",
       "\n",
       "    .dataframe tbody tr th {\n",
       "        vertical-align: top;\n",
       "    }\n",
       "\n",
       "    .dataframe thead th {\n",
       "        text-align: right;\n",
       "    }\n",
       "</style>\n",
       "<table border=\"1\" class=\"dataframe\">\n",
       "  <thead>\n",
       "    <tr style=\"text-align: right;\">\n",
       "      <th></th>\n",
       "      <th>rate</th>\n",
       "    </tr>\n",
       "  </thead>\n",
       "  <tbody>\n",
       "    <tr>\n",
       "      <th>1INCH</th>\n",
       "      <td>1.034126</td>\n",
       "    </tr>\n",
       "    <tr>\n",
       "      <th>AAVE</th>\n",
       "      <td>0.008814</td>\n",
       "    </tr>\n",
       "    <tr>\n",
       "      <th>ACH</th>\n",
       "      <td>57.466310</td>\n",
       "    </tr>\n",
       "    <tr>\n",
       "      <th>ADA</th>\n",
       "      <td>1.664447</td>\n",
       "    </tr>\n",
       "    <tr>\n",
       "      <th>AED</th>\n",
       "      <td>3.673100</td>\n",
       "    </tr>\n",
       "    <tr>\n",
       "      <th>...</th>\n",
       "      <td>...</td>\n",
       "    </tr>\n",
       "    <tr>\n",
       "      <th>ZEN</th>\n",
       "      <td>0.045788</td>\n",
       "    </tr>\n",
       "    <tr>\n",
       "      <th>ZMW</th>\n",
       "      <td>17.247959</td>\n",
       "    </tr>\n",
       "    <tr>\n",
       "      <th>ZRX</th>\n",
       "      <td>2.412982</td>\n",
       "    </tr>\n",
       "    <tr>\n",
       "      <th>ZWD</th>\n",
       "      <td>463.465400</td>\n",
       "    </tr>\n",
       "    <tr>\n",
       "      <th>ZWL</th>\n",
       "      <td>322.000000</td>\n",
       "    </tr>\n",
       "  </tbody>\n",
       "</table>\n",
       "<p>345 rows × 1 columns</p>\n",
       "</div>"
      ],
      "text/plain": [
       "             rate\n",
       "1INCH    1.034126\n",
       "AAVE     0.008814\n",
       "ACH     57.466310\n",
       "ADA      1.664447\n",
       "AED      3.673100\n",
       "...           ...\n",
       "ZEN      0.045788\n",
       "ZMW     17.247959\n",
       "ZRX      2.412982\n",
       "ZWD    463.465400\n",
       "ZWL    322.000000\n",
       "\n",
       "[345 rows x 1 columns]"
      ]
     },
     "execution_count": 30,
     "metadata": {},
     "output_type": "execute_result"
    }
   ],
   "source": [
    "rates_request = requests.get(\"https://api.coinbase.com/v2/exchange-rates?currency=USD\")\n",
    "rates = pd.DataFrame.from_dict(rates_request.json()[\"data\"])\n",
    "rates = rates[[\"rates\"]].astype(float).rename(columns={\"rates\": \"rate\"})\n",
    "rates"
   ]
  },
  {
   "cell_type": "code",
   "execution_count": 31,
   "id": "06b132bf-da90-46db-84e3-29afbc25d42b",
   "metadata": {},
   "outputs": [],
   "source": [
    "def generate_access_sign(timestamp, method, requestPath, body):\n",
    "    message = timestamp + method + requestPath + body\n",
    "    message_bytes = bytes(message , 'latin-1')\n",
    "    signature = hmac.new(secret_bytes, message_bytes, digestmod = hashlib.sha256).hexdigest()\n",
    "    return signature"
   ]
  },
  {
   "cell_type": "code",
   "execution_count": 32,
   "id": "be3853fe-687e-4406-a748-62b81a632c6e",
   "metadata": {},
   "outputs": [],
   "source": [
    "def coinbase_api(path):\n",
    "    BASE = \"https://api.coinbase.com\"\n",
    "    timestamp = str(round(datetime.now().timestamp()))\n",
    "    signature = generate_access_sign(timestamp, \"GET\", path, \"\")\n",
    "    HEADERS = {\n",
    "        \"CB-ACCESS-KEY\": credentials.key,\n",
    "        \"CB-ACCESS-SIGN\": signature,\n",
    "        \"CB-ACCESS-TIMESTAMP\": timestamp,\n",
    "        \"CB-VERSION\": \"2022-05-15\"\n",
    "    }\n",
    "    return requests.get(BASE+path, headers=HEADERS)\n",
    "\n",
    "wallets_request = coinbase_api(\"/v2/accounts?limit=300\")\n",
    "# display(wallets_request.json())"
   ]
  },
  {
   "cell_type": "code",
   "execution_count": 33,
   "id": "151ff1f8-7ff7-4a5a-bbaa-cebb0ed98a8d",
   "metadata": {},
   "outputs": [],
   "source": [
    "assets = pd.DataFrame.from_dict(wallets_request.json()[\"data\"])\n",
    "assets[\"symbol\"] = assets[\"balance\"].apply(lambda balance: balance[\"currency\"])\n",
    "assets[\"balance\"] = assets[\"balance\"].apply(lambda balance: float(balance[\"amount\"]))\n",
    "assets = assets[[\"symbol\", \"balance\", \"id\"]].set_index(\"symbol\")"
   ]
  },
  {
   "cell_type": "code",
   "execution_count": 34,
   "id": "f2cf7223-3c41-4d11-8595-405dc9e1f8fd",
   "metadata": {},
   "outputs": [],
   "source": [
    "assets = assets.join(rates)\n",
    "assets[\"balance\"] = assets[\"balance\"] / assets[\"rate\"]"
   ]
  },
  {
   "cell_type": "code",
   "execution_count": 35,
   "id": "e1664e00-e370-476b-84b1-72783fca0560",
   "metadata": {},
   "outputs": [],
   "source": [
    "# with pd.option_context('display.max_rows', None, 'display.max_columns', None):  # more options can be specified also\n",
    "#     display(assets)"
   ]
  },
  {
   "cell_type": "code",
   "execution_count": 36,
   "id": "9c57a595-2a20-4b98-a266-e2e8ba7da4d7",
   "metadata": {},
   "outputs": [],
   "source": [
    "# Tidy up coinbase data\n",
    "assets.rename(index={'CGLD':'CELO'}, inplace=True)\n",
    "assets.drop(index=\"USD\", inplace=True)"
   ]
  },
  {
   "cell_type": "code",
   "execution_count": 37,
   "id": "54a052b6-f5d7-4a6a-8c4f-e418ce7c2172",
   "metadata": {},
   "outputs": [],
   "source": [
    "mc_dicts = []\n",
    "for page in range(1, 20):\n",
    "    results = requests.get(f\"https://api.coingecko.com/api/v3/coins/markets?vs_currency=usd&order=market_cap_desc&per_page=250&page={page}&sparkline=false\").json()\n",
    "    mc_dicts.extend(results)"
   ]
  },
  {
   "cell_type": "code",
   "execution_count": 38,
   "id": "d6e89063-fed1-42a6-901c-687a75608bd0",
   "metadata": {},
   "outputs": [],
   "source": [
    "mc = pd.DataFrame.from_dict(mc_dicts)\n",
    "mc[\"symbol\"] = mc[\"symbol\"].str.upper()\n",
    "mc.set_index(\"symbol\", inplace=True)\n",
    "mc = mc[[\"market_cap\"]]\n",
    "mc = mc[~(mc[\"market_cap\"] == 0)]\n",
    "# mc[mc.index.duplicated()].sort_index()\n"
   ]
  },
  {
   "cell_type": "code",
   "execution_count": 39,
   "id": "b1a97228-290a-4df7-aecd-51494eeeb53c",
   "metadata": {},
   "outputs": [],
   "source": [
    "df = assets.join(mc)"
   ]
  },
  {
   "cell_type": "code",
   "execution_count": 40,
   "id": "b2eaa888-7a7f-477b-ab6d-721cb5239536",
   "metadata": {},
   "outputs": [],
   "source": [
    "weights = pd.read_csv('active_weights.csv', index_col=\"symbol\")\n",
    "weights[\"weight\"] = pd.to_numeric(weights[\"weight\"])\n",
    "df = df.join(weights)"
   ]
  },
  {
   "cell_type": "code",
   "execution_count": 41,
   "id": "1915e3cf-4510-404a-b28a-1cfabba77dae",
   "metadata": {},
   "outputs": [
    {
     "data": {
      "text/html": [
       "<div>\n",
       "<style scoped>\n",
       "    .dataframe tbody tr th:only-of-type {\n",
       "        vertical-align: middle;\n",
       "    }\n",
       "\n",
       "    .dataframe tbody tr th {\n",
       "        vertical-align: top;\n",
       "    }\n",
       "\n",
       "    .dataframe thead th {\n",
       "        text-align: right;\n",
       "    }\n",
       "</style>\n",
       "<table border=\"1\" class=\"dataframe\">\n",
       "  <thead>\n",
       "    <tr style=\"text-align: right;\">\n",
       "      <th></th>\n",
       "      <th>balance</th>\n",
       "      <th>id</th>\n",
       "      <th>rate</th>\n",
       "      <th>market_cap</th>\n",
       "      <th>weight</th>\n",
       "    </tr>\n",
       "    <tr>\n",
       "      <th>symbol</th>\n",
       "      <th></th>\n",
       "      <th></th>\n",
       "      <th></th>\n",
       "      <th></th>\n",
       "      <th></th>\n",
       "    </tr>\n",
       "  </thead>\n",
       "  <tbody>\n",
       "    <tr>\n",
       "      <th>LOOM</th>\n",
       "      <td>0.0</td>\n",
       "      <td>d1e2d5dd-c742-55e5-a60b-5d20b8658568</td>\n",
       "      <td>18.552876</td>\n",
       "      <td>NaN</td>\n",
       "      <td>NaN</td>\n",
       "    </tr>\n",
       "    <tr>\n",
       "      <th>PAX</th>\n",
       "      <td>0.0</td>\n",
       "      <td>PAX</td>\n",
       "      <td>1.000450</td>\n",
       "      <td>NaN</td>\n",
       "      <td>0.0</td>\n",
       "    </tr>\n",
       "  </tbody>\n",
       "</table>\n",
       "</div>"
      ],
      "text/plain": [
       "        balance                                    id       rate  market_cap  \\\n",
       "symbol                                                                         \n",
       "LOOM        0.0  d1e2d5dd-c742-55e5-a60b-5d20b8658568  18.552876         NaN   \n",
       "PAX         0.0                                   PAX   1.000450         NaN   \n",
       "\n",
       "        weight  \n",
       "symbol          \n",
       "LOOM       NaN  \n",
       "PAX        0.0  "
      ]
     },
     "execution_count": 41,
     "metadata": {},
     "output_type": "execute_result"
    }
   ],
   "source": [
    "# Missing market caps\n",
    "df[df[\"market_cap\"].isnull()]"
   ]
  },
  {
   "cell_type": "code",
   "execution_count": 42,
   "id": "122b09fb-ea9a-4029-9bd7-2db0a9a59179",
   "metadata": {},
   "outputs": [],
   "source": [
    "df = df[~df[\"market_cap\"].isnull()]"
   ]
  },
  {
   "cell_type": "code",
   "execution_count": 43,
   "id": "a6a18a34-89b2-4db0-b572-9fb89233858b",
   "metadata": {},
   "outputs": [
    {
     "data": {
      "text/html": [
       "<div>\n",
       "<style scoped>\n",
       "    .dataframe tbody tr th:only-of-type {\n",
       "        vertical-align: middle;\n",
       "    }\n",
       "\n",
       "    .dataframe tbody tr th {\n",
       "        vertical-align: top;\n",
       "    }\n",
       "\n",
       "    .dataframe thead th {\n",
       "        text-align: right;\n",
       "    }\n",
       "</style>\n",
       "<table border=\"1\" class=\"dataframe\">\n",
       "  <thead>\n",
       "    <tr style=\"text-align: right;\">\n",
       "      <th></th>\n",
       "      <th>market_cap</th>\n",
       "      <th>weight</th>\n",
       "    </tr>\n",
       "    <tr>\n",
       "      <th>symbol</th>\n",
       "      <th></th>\n",
       "      <th></th>\n",
       "    </tr>\n",
       "  </thead>\n",
       "  <tbody>\n",
       "  </tbody>\n",
       "</table>\n",
       "</div>"
      ],
      "text/plain": [
       "Empty DataFrame\n",
       "Columns: [market_cap, weight]\n",
       "Index: []"
      ]
     },
     "execution_count": 43,
     "metadata": {},
     "output_type": "execute_result"
    }
   ],
   "source": [
    "# To be weighted\n",
    "df[df[\"weight\"].isnull()].sort_values(\"market_cap\", ascending=False)[[\"market_cap\", \"weight\"]]"
   ]
  },
  {
   "cell_type": "code",
   "execution_count": 44,
   "id": "b2ba4f18-490c-437e-908e-2101f540c214",
   "metadata": {},
   "outputs": [
    {
     "data": {
      "text/plain": [
       "<AxesSubplot:ylabel='Frequency'>"
      ]
     },
     "execution_count": 44,
     "metadata": {},
     "output_type": "execute_result"
    },
    {
     "data": {
      "application/vnd.jupyter.widget-view+json": {
       "model_id": "e00a5bc9dc754e75948cafc265d41c38",
       "version_major": 2,
       "version_minor": 0
      },
      "image/png": "[encoded data removed]",
      "text/html": [
       "\n",
       "            <div style=\"display: inline-block;\">\n",
       "                <div class=\"jupyter-widgets widget-label\" style=\"text-align: center;\">\n",
       "                    Figure\n",
       "                </div>\n",
       "                <img src='data:image/png;base64,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' width=640.0/>\n",
       "            </div>\n",
       "        "
      ],
      "text/plain": [
       "Canvas(toolbar=Toolbar(toolitems=[('Home', 'Reset original view', 'home', 'home'), ('Back', 'Back to previous …"
      ]
     },
     "metadata": {},
     "output_type": "display_data"
    }
   ],
   "source": [
    "df = df[~df[\"weight\"].isnull()]\n",
    "df = df[~(df[\"weight\"] == 0)]\n",
    "df[\"custom_weighted_mc\"] = df[\"market_cap\"] * df[\"weight\"]\n",
    "df[\"custom_allocation_target\"] = df[\"custom_weighted_mc\"] / df[\"custom_weighted_mc\"].sum()\n",
    "df[\"log_custom_weighted_mc\"] = np.log(df[\"custom_weighted_mc\"])\n",
    "df[\"log_custom_weighted_allocation_target\"] = df[\"log_custom_weighted_mc\"] / df[\"log_custom_weighted_mc\"].sum()\n",
    "log_weight = 0.3\n",
    "df[\"fully_weighted_allocation_target\"] = (df[\"log_custom_weighted_allocation_target\"] * log_weight) + (df[\"custom_allocation_target\"] * (1-log_weight))\n",
    "%matplotlib widget\n",
    "df[\"fully_weighted_allocation_target\"].plot.hist(bins=100)"
   ]
  },
  {
   "cell_type": "code",
   "execution_count": 45,
   "id": "13727ce3-998c-4d43-b905-e73957e72794",
   "metadata": {},
   "outputs": [],
   "source": [
    "df[\"current_allocation\"] = df[\"balance\"] / df[\"balance\"].sum()\n",
    "df[\"target_allocation\"] = df[\"fully_weighted_allocation_target\"] * credentials.target_portfolio_size\n",
    "df[\"delta\"] = df[\"target_allocation\"] - df[\"balance\"]\n",
    "# df[[\"balance\", \"fully_weighted_allocation_target\", \"target_allocation\", \"delta\"]].sort_values(\"delta\", ascending=False)"
   ]
  },
  {
   "cell_type": "code",
   "execution_count": 46,
   "id": "98322dd3-9540-40e1-b18d-621ba73e64d8",
   "metadata": {},
   "outputs": [],
   "source": [
    "\n",
    "def get_latest_tx(row):\n",
    "    tx_request = coinbase_api(f\"/v2/accounts/{row.id}/transactions\")\n",
    "    # display(tx_request.content)\n",
    "    \n",
    "    # ridiculous coinbase doubled data problem\n",
    "    transactions = pd.DataFrame.from_dict(tx_request.json()[\"data\"])\n",
    "    # doubled_content = tx_request.text\n",
    "    # import json\n",
    "    # transactions = pd.DataFrame.from_dict(json.loads(doubled_content[:len(doubled_content)//2])[\"data\"])\n",
    "    \n",
    "    if transactions.empty:\n",
    "        return row\n",
    "    transactions[\"timestamp\"] = pd.to_datetime(transactions[\"updated_at\"])\n",
    "    transactions[\"symbol\"] = row.name\n",
    "    x = transactions.groupby(by=[\"type\", \"symbol\"])[[\"timestamp\"]].agg(\"max\")\n",
    "    x = x.reset_index(level=\"type\")\n",
    "    x = x.pivot(index=None, columns=\"type\", values=\"timestamp\")\n",
    "    row[\"last_bought\"] = x[\"buy\"][0] if \"buy\" in x.columns else None\n",
    "    row[\"last_sold\"] = x[\"sell\"][0] if \"sell\" in x.columns else None # TODO pandas idiomatic way to do all this\n",
    "    return row\n"
   ]
  },
  {
   "cell_type": "code",
   "execution_count": 47,
   "id": "0b5f1823-33e3-47f2-b6e6-2ffdd1c8194b",
   "metadata": {},
   "outputs": [],
   "source": [
    "df = df.apply(get_latest_tx, axis='columns')"
   ]
  },
  {
   "cell_type": "code",
   "execution_count": 54,
   "id": "cb9f9a2a-8788-454e-baaf-21fcc621149a",
   "metadata": {},
   "outputs": [],
   "source": [
    "# df[[\"balance\", \"fully_weighted_allocation_target\", \"target_allocation\", \"delta\"]].sort_values(\"delta\", ascending=False)"
   ]
  },
  {
   "cell_type": "code",
   "execution_count": 49,
   "id": "29475c80-de3c-40c3-9776-0f801fce5520",
   "metadata": {},
   "outputs": [],
   "source": [
    "df[\"last_sold\"] = df[\"last_sold\"].dt.tz_localize(None)\n",
    "df[\"last_bought\"] = df[\"last_bought\"].dt.tz_localize(None)\n",
    "beginning_of_window = np.datetime64(pd.Timestamp(\"now\") - pd.Timedelta(days=31))"
   ]
  },
  {
   "cell_type": "code",
   "execution_count": 50,
   "id": "d024a7b9-7efd-4afd-b7e4-7bd4d2a076c9",
   "metadata": {},
   "outputs": [],
   "source": [
    "df[\"tlh_safe\"] = (\n",
    "    (df[\"delta\"] < 0) & (df[\"last_bought\"] < beginning_of_window)\n",
    ") | (\n",
    "    (df[\"delta\"] > 0) & (df[\"last_sold\"] < beginning_of_window)\n",
    ")\n",
    "df = df[df[\"tlh_safe\"]]"
   ]
  },
  {
   "cell_type": "code",
   "execution_count": 52,
   "id": "e6622633-fe0c-478b-a634-0612cd7db8e5",
   "metadata": {},
   "outputs": [],
   "source": [
    "# df[[\"balance\", \"fully_weighted_allocation_target\", \"target_allocation\", \"delta\"]].sort_values(\"delta\", ascending=False)"
   ]
  }
 ],
 "metadata": {
  "kernelspec": {
   "display_name": "Python 3 (ipykernel)",
   "language": "python",
   "name": "python3"
  },
  "language_info": {
   "codemirror_mode": {
    "name": "ipython",
    "version": 3
   },
   "file_extension": ".py",
   "mimetype": "text/x-python",
   "name": "python",
   "nbconvert_exporter": "python",
   "pygments_lexer": "ipython3",
   "version": "3.9.4"
  }
 },
 "nbformat": 4,
 "nbformat_minor": 5
}
